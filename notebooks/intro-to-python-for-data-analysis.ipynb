{
 "cells": [
  {
   "cell_type": "markdown",
   "metadata": {
    "slideshow": {
     "slide_type": "slide"
    }
   },
   "source": [
    "# Introduction to Python for Data Analysis"
   ]
  },
  {
   "cell_type": "markdown",
   "metadata": {
    "slideshow": {
     "slide_type": "slide"
    }
   },
   "source": [
    "## What is python and why use it?\n",
    "\n",
    "Python is a general purpose programming language. It has in recent years gained a lot of popularity as a tool for data science and statistics.\n",
    "It has a number of advantages:\n",
    "\n",
    "1. General purpose language - add what you need\n",
    "2. Portable (Linux, Windows, Mac)\n",
    "3. Interactive\n",
    "4. Free\n",
    "5. Large community and eco-system"
   ]
  },
  {
   "cell_type": "markdown",
   "metadata": {
    "slideshow": {
     "slide_type": "fragment"
    }
   },
   "source": [
    "## Working with Python\n",
    "\n",
    "**Think of Python as workflows**\n",
    "\n",
    "- The applications of Pythons are incredibly vast\n",
    "- Makes more sense to think in learning workflows rather than Python in general\n",
    "    - Python for statistical analysis\n",
    "    - Python for text mining\n",
    "    - Python for image analysis\n",
    "    - Python for web scraping\n",
    "    - Etc.\n",
    "\n",
    "**Several tools for working with Python**\n",
    "\n",
    "- Python is a programming tools\n",
    "- So-called \"IDE's\" (\"Integrated Development Environments\") are used to interact with Python\n",
    "- Use of IDE mostly boils down to personal preference (in this workshop: JupyterLab/Jupyter Notebook)"
   ]
  },
  {
   "cell_type": "markdown",
   "metadata": {
    "slideshow": {
     "slide_type": "slide"
    }
   },
   "source": [
    "## Content of the Python introduction\n",
    "\n",
    "- The Jupyter Notebook environment\n",
    "- The Python language\n",
    "- Defining \"variables\"\n",
    "- Variable types\n",
    "- Basic data structures (lists and dictionaries)\n",
    "- Functions and methods\n",
    "- Expanding Python functionality by importing modules\n",
    "- Working with table data (\"data frames\") in Python (the `pandas` module)"
   ]
  },
  {
   "cell_type": "markdown",
   "metadata": {
    "slideshow": {
     "slide_type": "slide"
    }
   },
   "source": [
    "## Teaching format\n",
    "\n",
    "- Live-coding: Code along with the instructor and try out the code\n",
    "- Help each other\n",
    "- Use sticker if you need assistance (put it on your laptop)"
   ]
  },
  {
   "cell_type": "markdown",
   "metadata": {
    "slideshow": {
     "slide_type": "slide"
    }
   },
   "source": [
    "## Using JupyterLab / Jupyter Notebook\n",
    "\n",
    "JupyterLab / Jupyter Notebook is a web-based interactive computational environment for creating notebooks for codes.\n",
    "\n",
    "It is originally developed for Python but can be used for other code as well (for example R).\n",
    "\n",
    "A \"jupyter notebook\" works in a cell-structure. Each notebook is comprised of cells. The cells can be either code cells or markdown cells (or raw cells)\n",
    "\n",
    "- Code cells: Contains python code\n",
    "- Markdown cells: Write text\n",
    "\n",
    "Cells are run by highlighting it and pressing `Shift + Enter` / `Cmd + Enter`.\n",
    "\n",
    "**Order of cells**\n",
    "- Because cells can be run one-by-one, it is *the running order that counts - not the reading order*\n",
    "- Changes are made when cells are run\n",
    "- Cells can be re-run - possibly overwriting changes made later in the reading order\n",
    "- The number to the left of the cell indicates the running order:\n",
    "    - `[<number>]`: Running order\n",
    "    - `[*]`: The cell is running or queued\n",
    "    - `[ ]`: The cell has not been run"
   ]
  },
  {
   "cell_type": "markdown",
   "metadata": {
    "slideshow": {
     "slide_type": "slide"
    }
   },
   "source": [
    "## The Python language\n",
    "\n",
    "Working with Python means working with codes written in the Python language. \n",
    "\n",
    "Python works by writing lines of code (commands) and having Python interpret that code (running commands or cells)."
   ]
  },
  {
   "cell_type": "markdown",
   "metadata": {
    "slideshow": {
     "slide_type": "fragment"
    }
   },
   "source": [
    "### Python as a calculator\n",
    "So what does it mean that python interprets our code?\n",
    "It means that you tell python to do something by writing a command and python will do that (if python can understand you).\n",
    "\n",
    "Python, for example, understands mathematical expressions:"
   ]
  },
  {
   "cell_type": "code",
   "execution_count": 1,
   "metadata": {
    "slideshow": {
     "slide_type": "fragment"
    }
   },
   "outputs": [
    {
     "data": {
      "text/plain": [
       "7"
      ]
     },
     "execution_count": 1,
     "metadata": {},
     "output_type": "execute_result"
    }
   ],
   "source": [
    "2 + 5"
   ]
  },
  {
   "cell_type": "code",
   "execution_count": 2,
   "metadata": {
    "slideshow": {
     "slide_type": "fragment"
    }
   },
   "outputs": [
    {
     "data": {
      "text/plain": [
       "94.72"
      ]
     },
     "execution_count": 2,
     "metadata": {},
     "output_type": "execute_result"
    }
   ],
   "source": [
    "0.37 * 256"
   ]
  },
  {
   "cell_type": "markdown",
   "metadata": {},
   "source": [
    "If Python cannot interpret/understand your code, you get an error:"
   ]
  },
  {
   "cell_type": "code",
   "execution_count": 3,
   "metadata": {},
   "outputs": [
    {
     "ename": "NameError",
     "evalue": "name 'bake_cake' is not defined",
     "output_type": "error",
     "traceback": [
      "\u001b[1;31m---------------------------------------------------------------------------\u001b[0m",
      "\u001b[1;31mNameError\u001b[0m                                 Traceback (most recent call last)",
      "\u001b[1;32m~\\AppData\\Local\\Temp\\ipykernel_27568\\1101699976.py\u001b[0m in \u001b[0;36m<module>\u001b[1;34m\u001b[0m\n\u001b[1;32m----> 1\u001b[1;33m \u001b[0mbake_cake\u001b[0m\u001b[1;33m(\u001b[0m\u001b[1;33m)\u001b[0m\u001b[1;33m\u001b[0m\u001b[1;33m\u001b[0m\u001b[0m\n\u001b[0m",
      "\u001b[1;31mNameError\u001b[0m: name 'bake_cake' is not defined"
     ]
    }
   ],
   "source": [
    "bake_cake()"
   ]
  },
  {
   "cell_type": "markdown",
   "metadata": {
    "slideshow": {
     "slide_type": "slide"
    }
   },
   "source": [
    "## Adding documentation\n",
    "* Comment on a line using `#` (code following will not be interpreted)\n",
    "* Doc-strings for longer comments using `\"\"\"`"
   ]
  },
  {
   "cell_type": "code",
   "execution_count": 4,
   "metadata": {},
   "outputs": [
    {
     "data": {
      "text/plain": [
       "4"
      ]
     },
     "execution_count": 4,
     "metadata": {},
     "output_type": "execute_result"
    }
   ],
   "source": [
    "2 + 2 # This is an in-line comment"
   ]
  },
  {
   "cell_type": "code",
   "execution_count": 5,
   "metadata": {},
   "outputs": [
    {
     "data": {
      "text/plain": [
       "4"
      ]
     },
     "execution_count": 5,
     "metadata": {},
     "output_type": "execute_result"
    }
   ],
   "source": [
    "\"\"\"\n",
    "This is a long comment.\n",
    "Also called a doc-string\n",
    "\"\"\"\n",
    "\n",
    "2 + 2"
   ]
  },
  {
   "cell_type": "markdown",
   "metadata": {
    "slideshow": {
     "slide_type": "slide"
    }
   },
   "source": [
    "## Variables\n",
    "\n",
    "Working with python means working with variables. A python \"variable\" is not a variable in a statistical sense. It is simply a name to use to call up stored data/information.\n",
    "\n",
    "Variables can be a lot of things: \n",
    "- a word\n",
    "- a number\n",
    "- a series of numbers\n",
    "- a dataset \n",
    "- a URL\n",
    "- a formula\n",
    "- a result \n",
    "- a filepath\n",
    "- and so on...\n",
    "\n",
    "When a variable is defined, it is available in the current working space (or environment).\n",
    "\n",
    "This makes it possible to store and work with a variety of informaiton simultaneously."
   ]
  },
  {
   "cell_type": "markdown",
   "metadata": {
    "slideshow": {
     "slide_type": "slide"
    }
   },
   "source": [
    "### Defining variables\n",
    "\n",
    "Variables are defined using `=`"
   ]
  },
  {
   "cell_type": "code",
   "execution_count": 6,
   "metadata": {
    "slideshow": {
     "slide_type": "fragment"
    }
   },
   "outputs": [],
   "source": [
    "a = 2 + 5"
   ]
  },
  {
   "cell_type": "code",
   "execution_count": 7,
   "metadata": {
    "slideshow": {
     "slide_type": "fragment"
    }
   },
   "outputs": [
    {
     "data": {
      "text/plain": [
       "7"
      ]
     },
     "execution_count": 7,
     "metadata": {},
     "output_type": "execute_result"
    }
   ],
   "source": [
    "a"
   ]
  },
  {
   "cell_type": "code",
   "execution_count": 8,
   "metadata": {
    "slideshow": {
     "slide_type": "fragment"
    }
   },
   "outputs": [],
   "source": [
    "b = 'jedi'"
   ]
  },
  {
   "cell_type": "code",
   "execution_count": 9,
   "metadata": {
    "slideshow": {
     "slide_type": "fragment"
    }
   },
   "outputs": [
    {
     "data": {
      "text/plain": [
       "'jedi'"
      ]
     },
     "execution_count": 9,
     "metadata": {},
     "output_type": "execute_result"
    }
   ],
   "source": [
    "b"
   ]
  },
  {
   "cell_type": "markdown",
   "metadata": {
    "slideshow": {
     "slide_type": "-"
    }
   },
   "source": [
    "Using `' '` or `\" \"` denotes that the code should be read as text."
   ]
  },
  {
   "cell_type": "markdown",
   "metadata": {
    "slideshow": {
     "slide_type": "slide"
    }
   },
   "source": [
    "### Naming variables\n",
    "Variables can be named almost anything but a good rule of thumb is to use names that are indicative of what the variable contains.\n",
    "\n",
    "#### Restrictions for naming variables\n",
    "- Most special characters not allowed: `/`, `?`, `*`, `+`, `.` and so on (most characters mean something in python and will be read as an expression)\n",
    "- Already existing names in python (will overwrite the function/variable in the environment)\n",
    "\n",
    "#### Good naming conventions \n",
    "- Using '`_`': `my_variable`, `room_number`\n",
    "\n",
    "or:\n",
    "\n",
    "- Capitalize each word except the first: `myVariable`, `roomNumber`\n"
   ]
  },
  {
   "cell_type": "markdown",
   "metadata": {
    "slideshow": {
     "slide_type": "slide"
    }
   },
   "source": [
    "## EXERCISE 1: DEFINING VARIABLES\n",
    "\n",
    "1. Define the following variables:\n",
    "\n",
    "    - `my_num1`: `42` (without quotation marks)\n",
    "    - `my_num2`: `\"42\"` (with quotation marks)\n",
    "    - `my_calc`: `42 * 42`\n",
    "    - `my_name`: `\"kenobi\"`\n",
    "\n",
    "2. Divide each variable by 2\n",
    "\n",
    "## Bonus exercise\n",
    "- Try multiplying each variable by 2"
   ]
  },
  {
   "cell_type": "markdown",
   "metadata": {
    "slideshow": {
     "slide_type": "slide"
    }
   },
   "source": [
    "### EXERCISE 1: DEFINING VARIABLES\n",
    "*What happens?*"
   ]
  },
  {
   "cell_type": "code",
   "execution_count": 10,
   "metadata": {},
   "outputs": [],
   "source": [
    "my_name = \"kenobi\"\n",
    "my_num1 = 42 \n",
    "my_num2 = \"42\"\n",
    "my_calc = 42 * 42"
   ]
  },
  {
   "cell_type": "code",
   "execution_count": 11,
   "metadata": {
    "slideshow": {
     "slide_type": "fragment"
    },
    "tags": [
     "remove_cell"
    ]
   },
   "outputs": [
    {
     "data": {
      "text/plain": [
       "21.0"
      ]
     },
     "execution_count": 11,
     "metadata": {},
     "output_type": "execute_result"
    }
   ],
   "source": [
    "my_num1 / 2"
   ]
  },
  {
   "cell_type": "code",
   "execution_count": 12,
   "metadata": {
    "slideshow": {
     "slide_type": "fragment"
    }
   },
   "outputs": [
    {
     "ename": "TypeError",
     "evalue": "unsupported operand type(s) for /: 'str' and 'int'",
     "output_type": "error",
     "traceback": [
      "\u001b[1;31m---------------------------------------------------------------------------\u001b[0m",
      "\u001b[1;31mTypeError\u001b[0m                                 Traceback (most recent call last)",
      "\u001b[1;32m~\\AppData\\Local\\Temp\\ipykernel_27568\\110058432.py\u001b[0m in \u001b[0;36m<module>\u001b[1;34m\u001b[0m\n\u001b[1;32m----> 1\u001b[1;33m \u001b[0mmy_num2\u001b[0m \u001b[1;33m/\u001b[0m \u001b[1;36m2\u001b[0m\u001b[1;33m\u001b[0m\u001b[1;33m\u001b[0m\u001b[0m\n\u001b[0m",
      "\u001b[1;31mTypeError\u001b[0m: unsupported operand type(s) for /: 'str' and 'int'"
     ]
    }
   ],
   "source": [
    "my_num2 / 2"
   ]
  },
  {
   "cell_type": "code",
   "execution_count": 13,
   "metadata": {
    "slideshow": {
     "slide_type": "fragment"
    }
   },
   "outputs": [
    {
     "data": {
      "text/plain": [
       "882.0"
      ]
     },
     "execution_count": 13,
     "metadata": {},
     "output_type": "execute_result"
    }
   ],
   "source": [
    "my_calc / 2"
   ]
  },
  {
   "cell_type": "code",
   "execution_count": 14,
   "metadata": {
    "slideshow": {
     "slide_type": "fragment"
    }
   },
   "outputs": [
    {
     "ename": "TypeError",
     "evalue": "unsupported operand type(s) for /: 'str' and 'int'",
     "output_type": "error",
     "traceback": [
      "\u001b[1;31m---------------------------------------------------------------------------\u001b[0m",
      "\u001b[1;31mTypeError\u001b[0m                                 Traceback (most recent call last)",
      "\u001b[1;32m~\\AppData\\Local\\Temp\\ipykernel_27568\\2948425404.py\u001b[0m in \u001b[0;36m<module>\u001b[1;34m\u001b[0m\n\u001b[1;32m----> 1\u001b[1;33m \u001b[0mmy_name\u001b[0m \u001b[1;33m/\u001b[0m \u001b[1;36m2\u001b[0m\u001b[1;33m\u001b[0m\u001b[1;33m\u001b[0m\u001b[0m\n\u001b[0m",
      "\u001b[1;31mTypeError\u001b[0m: unsupported operand type(s) for /: 'str' and 'int'"
     ]
    }
   ],
   "source": [
    "my_name / 2"
   ]
  },
  {
   "cell_type": "markdown",
   "metadata": {
    "slideshow": {
     "slide_type": "slide"
    }
   },
   "source": [
    "## Variable types in Python\n",
    "Why did we get errors in the previous exercise?"
   ]
  },
  {
   "cell_type": "markdown",
   "metadata": {
    "slideshow": {
     "slide_type": "fragment"
    }
   },
   "source": [
    "Because python distinguishes between different types of variables!\n",
    "\n",
    "A variable is stored as a *type*. The type denotes what kind of variable it is and affects what operations are possible."
   ]
  },
  {
   "cell_type": "markdown",
   "metadata": {
    "slideshow": {
     "slide_type": "slide"
    }
   },
   "source": [
    "### Numeric and character types\n",
    "As you work with python, you will encounter a lot of different types. For now we will be focusing on two of the more common ones:\n",
    "- Numeric types (like integers or floats)\n",
    "- Character types (like strings)\n",
    "\n",
    "Numbers are automatically stored as a numeric type (like a float, integer etc.).\n",
    "\n",
    "When using `''` or `\"\"` around the information to be stored in the variable, python will interpret that as text. Variables containing text are refered to as *strings*.\n",
    "\n",
    "*Numbers enclosed in `''` or `\"\"` are therefore stored as strings, as python interprets it as text!*\n",
    "\n",
    "Python has to be told that something is text as Python would otherwise interpret it as an existing variable."
   ]
  },
  {
   "cell_type": "code",
   "execution_count": 15,
   "metadata": {
    "slideshow": {
     "slide_type": "fragment"
    }
   },
   "outputs": [
    {
     "ename": "NameError",
     "evalue": "name 'vader' is not defined",
     "output_type": "error",
     "traceback": [
      "\u001b[1;31m---------------------------------------------------------------------------\u001b[0m",
      "\u001b[1;31mNameError\u001b[0m                                 Traceback (most recent call last)",
      "\u001b[1;32m~\\AppData\\Local\\Temp\\ipykernel_27568\\1479174621.py\u001b[0m in \u001b[0;36m<module>\u001b[1;34m\u001b[0m\n\u001b[1;32m----> 1\u001b[1;33m \u001b[0mmy_name2\u001b[0m \u001b[1;33m=\u001b[0m \u001b[0mvader\u001b[0m\u001b[1;33m\u001b[0m\u001b[1;33m\u001b[0m\u001b[0m\n\u001b[0m",
      "\u001b[1;31mNameError\u001b[0m: name 'vader' is not defined"
     ]
    }
   ],
   "source": [
    "my_name2 = vader"
   ]
  },
  {
   "cell_type": "markdown",
   "metadata": {
    "slideshow": {
     "slide_type": "subslide"
    }
   },
   "source": [
    "Note that python can interpret multiplying and adding text:"
   ]
  },
  {
   "cell_type": "code",
   "execution_count": 16,
   "metadata": {
    "slideshow": {
     "slide_type": "fragment"
    }
   },
   "outputs": [
    {
     "data": {
      "text/plain": [
       "'kenobikenobi'"
      ]
     },
     "execution_count": 16,
     "metadata": {},
     "output_type": "execute_result"
    }
   ],
   "source": [
    "2 * my_name"
   ]
  },
  {
   "cell_type": "code",
   "execution_count": 17,
   "metadata": {
    "slideshow": {
     "slide_type": "fragment"
    }
   },
   "outputs": [
    {
     "data": {
      "text/plain": [
       "'4242'"
      ]
     },
     "execution_count": 17,
     "metadata": {},
     "output_type": "execute_result"
    }
   ],
   "source": [
    "2 * my_num2"
   ]
  },
  {
   "cell_type": "code",
   "execution_count": 18,
   "metadata": {
    "slideshow": {
     "slide_type": "fragment"
    }
   },
   "outputs": [
    {
     "data": {
      "text/plain": [
       "'obi-wan kenobi'"
      ]
     },
     "execution_count": 18,
     "metadata": {},
     "output_type": "execute_result"
    }
   ],
   "source": [
    "'obi-wan ' + my_name"
   ]
  },
  {
   "cell_type": "markdown",
   "metadata": {
    "slideshow": {
     "slide_type": "subslide"
    }
   },
   "source": [
    "### Integers and floats\n",
    "\n",
    "Wholenumbers will by default be interpreted as integers. Any number with a decimal will be interpreted as a float.\n",
    "\n",
    "Dividing will always convert the variable to a float."
   ]
  },
  {
   "cell_type": "code",
   "execution_count": 19,
   "metadata": {
    "slideshow": {
     "slide_type": "fragment"
    }
   },
   "outputs": [
    {
     "name": "stdout",
     "output_type": "stream",
     "text": [
      "<class 'int'> <class 'int'>\n"
     ]
    }
   ],
   "source": [
    "a_number = 36\n",
    "b_number = 12\n",
    "print(type(a_number),\n",
    "      type(b_number)\n",
    "     )"
   ]
  },
  {
   "cell_type": "code",
   "execution_count": 20,
   "metadata": {
    "slideshow": {
     "slide_type": "fragment"
    }
   },
   "outputs": [
    {
     "name": "stdout",
     "output_type": "stream",
     "text": [
      "3.0 <class 'float'>\n"
     ]
    }
   ],
   "source": [
    "c_number = a_number / b_number\n",
    "print(c_number, \n",
    "      type(c_number)\n",
    "     )"
   ]
  },
  {
   "cell_type": "markdown",
   "metadata": {},
   "source": [
    "## Basic data structures\n",
    "\n",
    "So far we have looked at python variables containing single values: a number, a word or a boolean.\n",
    "\n",
    "Python has different ways of storing a series of elements (values, variables, etc.). Data structures like \"lists\", \"tuples\", \"sets\" and \"dictionaries\" are built-in/native data structures but other data structures exists as well (arrays, data frames etc.)"
   ]
  },
  {
   "cell_type": "markdown",
   "metadata": {},
   "source": [
    "### Lists\n",
    "\n",
    "One of the more common data structures is the *list*.\n",
    "\n",
    "A list is a grouping of elements. They are created by enclosing comma-separated values in `[]`:"
   ]
  },
  {
   "cell_type": "code",
   "execution_count": 21,
   "metadata": {
    "slideshow": {
     "slide_type": "fragment"
    }
   },
   "outputs": [
    {
     "data": {
      "text/plain": [
       "[1, 9, 7, 3]"
      ]
     },
     "execution_count": 21,
     "metadata": {},
     "output_type": "execute_result"
    }
   ],
   "source": [
    "my_list = [1, 9, 7, 3]\n",
    "my_list"
   ]
  },
  {
   "cell_type": "markdown",
   "metadata": {
    "slideshow": {
     "slide_type": "fragment"
    }
   },
   "source": [
    "Note that lists can contain variables of different types."
   ]
  },
  {
   "cell_type": "code",
   "execution_count": 22,
   "metadata": {
    "slideshow": {
     "slide_type": "fragment"
    }
   },
   "outputs": [
    {
     "data": {
      "text/plain": [
       "['hello', 3, 42.0]"
      ]
     },
     "execution_count": 22,
     "metadata": {},
     "output_type": "execute_result"
    }
   ],
   "source": [
    "my_list2 = [\"hello\", 3, 42.0]\n",
    "my_list2"
   ]
  },
  {
   "cell_type": "markdown",
   "metadata": {
    "slideshow": {
     "slide_type": "slide"
    }
   },
   "source": [
    "#### Adding to lists\n",
    "\n",
    "Elements can be added to the list with the method `append`.\n",
    "\n",
    "*Note that using this method changes the contents of the list*"
   ]
  },
  {
   "cell_type": "code",
   "execution_count": 23,
   "metadata": {
    "slideshow": {
     "slide_type": "fragment"
    }
   },
   "outputs": [
    {
     "data": {
      "text/plain": [
       "[1, 9, 7, 3, 22]"
      ]
     },
     "execution_count": 23,
     "metadata": {},
     "output_type": "execute_result"
    }
   ],
   "source": [
    "my_list.append(22)\n",
    "my_list"
   ]
  },
  {
   "cell_type": "markdown",
   "metadata": {},
   "source": [
    "#### Combining lists\n",
    "\n",
    "Lists can be combined using `+` "
   ]
  },
  {
   "cell_type": "code",
   "execution_count": 24,
   "metadata": {},
   "outputs": [
    {
     "data": {
      "text/plain": [
       "[1, 9, 7, 3, 22, 'hello', 3, 42.0]"
      ]
     },
     "execution_count": 24,
     "metadata": {},
     "output_type": "execute_result"
    }
   ],
   "source": [
    "my_list3 = my_list + my_list2\n",
    "\n",
    "my_list3"
   ]
  },
  {
   "cell_type": "markdown",
   "metadata": {
    "slideshow": {
     "slide_type": "slide"
    }
   },
   "source": [
    "#### Indexes\n",
    "\n",
    "Each element in the list is assigned an index running from 0 to the number of elements - 1. We can use the index to refer to specific elements with `[]`:"
   ]
  },
  {
   "cell_type": "code",
   "execution_count": 25,
   "metadata": {
    "slideshow": {
     "slide_type": "fragment"
    }
   },
   "outputs": [
    {
     "data": {
      "text/plain": [
       "'hello'"
      ]
     },
     "execution_count": 25,
     "metadata": {},
     "output_type": "execute_result"
    }
   ],
   "source": [
    "my_list2[0]"
   ]
  },
  {
   "cell_type": "markdown",
   "metadata": {
    "slideshow": {
     "slide_type": "fragment"
    }
   },
   "source": [
    "Single elements in a list can be changed by refering to their index:"
   ]
  },
  {
   "cell_type": "code",
   "execution_count": 26,
   "metadata": {
    "slideshow": {
     "slide_type": "fragment"
    }
   },
   "outputs": [
    {
     "name": "stdout",
     "output_type": "stream",
     "text": [
      "['vader', 3, 42.0]\n"
     ]
    }
   ],
   "source": [
    "my_list2[0] = 'vader'\n",
    "print(my_list2)"
   ]
  },
  {
   "cell_type": "markdown",
   "metadata": {
    "slideshow": {
     "slide_type": "subslide"
    }
   },
   "source": [
    "### Tuples\n",
    "\n",
    "*Tuples* are immutable lists meaning their values can't be changed.\n",
    "\n",
    "They are created by enclosing elements in `()`:"
   ]
  },
  {
   "cell_type": "code",
   "execution_count": 27,
   "metadata": {
    "slideshow": {
     "slide_type": "fragment"
    }
   },
   "outputs": [
    {
     "data": {
      "text/plain": [
       "((1.0, 4.0), tuple)"
      ]
     },
     "execution_count": 27,
     "metadata": {},
     "output_type": "execute_result"
    }
   ],
   "source": [
    "t = (1.0, 4.0)\n",
    "t, type(t)"
   ]
  },
  {
   "cell_type": "code",
   "execution_count": 28,
   "metadata": {
    "slideshow": {
     "slide_type": "fragment"
    }
   },
   "outputs": [
    {
     "data": {
      "text/plain": [
       "4.0"
      ]
     },
     "execution_count": 28,
     "metadata": {},
     "output_type": "execute_result"
    }
   ],
   "source": [
    "t[1]"
   ]
  },
  {
   "cell_type": "code",
   "execution_count": 29,
   "metadata": {
    "slideshow": {
     "slide_type": "fragment"
    }
   },
   "outputs": [
    {
     "ename": "TypeError",
     "evalue": "'tuple' object does not support item assignment",
     "output_type": "error",
     "traceback": [
      "\u001b[1;31m---------------------------------------------------------------------------\u001b[0m",
      "\u001b[1;31mTypeError\u001b[0m                                 Traceback (most recent call last)",
      "\u001b[1;32m~\\AppData\\Local\\Temp\\ipykernel_27568\\2723529632.py\u001b[0m in \u001b[0;36m<module>\u001b[1;34m\u001b[0m\n\u001b[1;32m----> 1\u001b[1;33m \u001b[0mt\u001b[0m\u001b[1;33m[\u001b[0m\u001b[1;36m1\u001b[0m\u001b[1;33m]\u001b[0m \u001b[1;33m=\u001b[0m \u001b[1;36m2\u001b[0m\u001b[1;33m\u001b[0m\u001b[1;33m\u001b[0m\u001b[0m\n\u001b[0m",
      "\u001b[1;31mTypeError\u001b[0m: 'tuple' object does not support item assignment"
     ]
    }
   ],
   "source": [
    "t[1] = 2"
   ]
  },
  {
   "cell_type": "markdown",
   "metadata": {},
   "source": [
    "### Dictionaries"
   ]
  },
  {
   "cell_type": "markdown",
   "metadata": {},
   "source": [
    "*Dictionaries* are collection of so-called \"key-value pairs\". Dictionaries are created using `{}`:"
   ]
  },
  {
   "cell_type": "code",
   "execution_count": 30,
   "metadata": {},
   "outputs": [],
   "source": [
    "my_dict = {\"jedi\": \"Katarn\", \"sith\": \"Desann\"}"
   ]
  },
  {
   "cell_type": "markdown",
   "metadata": {},
   "source": [
    "Each pair is defined with a unique key followed by `:`. The value can be pretty much anything; a number, string, list, another dictionary, etc.\n",
    "\n",
    "Each key-value pair is separated by a comma (`,`)\n",
    "\n",
    "**Dictionaries are unordered (no index)**\n",
    "\n",
    "Note that dictionaries are unordered. Values are retrieved by their key rather than their index (because they do not have an index)."
   ]
  },
  {
   "cell_type": "code",
   "execution_count": 31,
   "metadata": {},
   "outputs": [
    {
     "ename": "KeyError",
     "evalue": "0",
     "output_type": "error",
     "traceback": [
      "\u001b[1;31m---------------------------------------------------------------------------\u001b[0m",
      "\u001b[1;31mKeyError\u001b[0m                                  Traceback (most recent call last)",
      "\u001b[1;32m~\\AppData\\Local\\Temp\\ipykernel_27568\\2056869115.py\u001b[0m in \u001b[0;36m<module>\u001b[1;34m\u001b[0m\n\u001b[1;32m----> 1\u001b[1;33m \u001b[0mmy_dict\u001b[0m\u001b[1;33m[\u001b[0m\u001b[1;36m0\u001b[0m\u001b[1;33m]\u001b[0m\u001b[1;33m\u001b[0m\u001b[1;33m\u001b[0m\u001b[0m\n\u001b[0m",
      "\u001b[1;31mKeyError\u001b[0m: 0"
     ]
    }
   ],
   "source": [
    "my_dict[0]"
   ]
  },
  {
   "cell_type": "code",
   "execution_count": 32,
   "metadata": {},
   "outputs": [
    {
     "data": {
      "text/plain": [
       "'Katarn'"
      ]
     },
     "execution_count": 32,
     "metadata": {},
     "output_type": "execute_result"
    }
   ],
   "source": [
    "my_dict[\"jedi\"]"
   ]
  },
  {
   "cell_type": "markdown",
   "metadata": {},
   "source": [
    "This also means that keys have to be unique. If the same key is used several times, only the last entry is stored:"
   ]
  },
  {
   "cell_type": "code",
   "execution_count": 33,
   "metadata": {},
   "outputs": [],
   "source": [
    "my_dict = {\"jedi\": \"Katarn\", \n",
    "           \"sith\": \"Desann\",\n",
    "           \"jedi\": \"Luke\"\n",
    "          }"
   ]
  },
  {
   "cell_type": "code",
   "execution_count": 34,
   "metadata": {},
   "outputs": [
    {
     "data": {
      "text/plain": [
       "'Luke'"
      ]
     },
     "execution_count": 34,
     "metadata": {},
     "output_type": "execute_result"
    }
   ],
   "source": [
    "my_dict[\"jedi\"]"
   ]
  },
  {
   "cell_type": "markdown",
   "metadata": {},
   "source": [
    "## Functions\n",
    "\n",
    "Functions are an essential part of working with Pythons. Functions take some input (one, several or no inputs) - also called \"arguments\", does something with that input and returns (for the most part) some output.\n",
    "\n",
    "Functions in Python follow this syntax: `function(argument1, argument2, ...)`\n",
    "\n",
    "Some arguments are required while others are optional."
   ]
  },
  {
   "cell_type": "markdown",
   "metadata": {},
   "source": [
    "### Using functions\n",
    "\n",
    "We have already used the functions `print()` and `type()`. \n",
    "\n",
    "`print()` takes one or several inputs and simply prints them:"
   ]
  },
  {
   "cell_type": "code",
   "execution_count": 35,
   "metadata": {},
   "outputs": [
    {
     "name": "stdout",
     "output_type": "stream",
     "text": [
      "Hello there\n"
     ]
    }
   ],
   "source": [
    "a = \"Hello\"\n",
    "b = \"there\"\n",
    "print(a, b)"
   ]
  },
  {
   "cell_type": "markdown",
   "metadata": {},
   "source": [
    "### Documentation and optional arguments (\"keyword arguments\")\n",
    "\n",
    "Some functions accept \"keyword arguments\". These can be seen as optional arguments, usually used to change how the function works. By default these arguments are set to something but can always be overwritten.\n",
    "\n",
    "We can examine the arguments by looking at the documentation:"
   ]
  },
  {
   "cell_type": "code",
   "execution_count": 36,
   "metadata": {},
   "outputs": [
    {
     "name": "stdout",
     "output_type": "stream",
     "text": [
      "Help on built-in function print in module builtins:\n",
      "\n",
      "print(...)\n",
      "    print(value, ..., sep=' ', end='\\n', file=sys.stdout, flush=False)\n",
      "    \n",
      "    Prints the values to a stream, or to sys.stdout by default.\n",
      "    Optional keyword arguments:\n",
      "    file:  a file-like object (stream); defaults to the current sys.stdout.\n",
      "    sep:   string inserted between values, default a space.\n",
      "    end:   string appended after the last value, default a newline.\n",
      "    flush: whether to forcibly flush the stream.\n",
      "\n"
     ]
    }
   ],
   "source": [
    "help(print)"
   ]
  },
  {
   "cell_type": "markdown",
   "metadata": {},
   "source": [
    "Notice the `sep = ' '`. This argument specifies what should separate the inputs when printed (by default a space). This can be overwritten by specifying another input for the argument:"
   ]
  },
  {
   "cell_type": "code",
   "execution_count": 37,
   "metadata": {},
   "outputs": [
    {
     "name": "stdout",
     "output_type": "stream",
     "text": [
      "Hello-there\n"
     ]
    }
   ],
   "source": [
    "print(a, b, sep = '-')"
   ]
  },
  {
   "cell_type": "markdown",
   "metadata": {},
   "source": [
    "## Methods\n",
    "\n",
    "*Methods* are similar to functions. Methods can be seen as functions that are tied to specific variable types (or rather \"classes\").\n",
    "\n",
    "This means that the methods available depends on the type of variable in question. Fx text values (strings) have a range of method associated with them:"
   ]
  },
  {
   "cell_type": "code",
   "execution_count": 38,
   "metadata": {},
   "outputs": [
    {
     "name": "stdout",
     "output_type": "stream",
     "text": [
      "HELLO\n",
      "hello\n"
     ]
    }
   ],
   "source": [
    "word = \"Hello\"\n",
    "\n",
    "print(word.upper())  # Upper-case\n",
    "print(word.lower())  # Lower-case"
   ]
  },
  {
   "cell_type": "markdown",
   "metadata": {},
   "source": [
    "These methods do not work on variables of a different type:"
   ]
  },
  {
   "cell_type": "code",
   "execution_count": 39,
   "metadata": {},
   "outputs": [
    {
     "ename": "AttributeError",
     "evalue": "'int' object has no attribute 'upper'",
     "output_type": "error",
     "traceback": [
      "\u001b[1;31m---------------------------------------------------------------------------\u001b[0m",
      "\u001b[1;31mAttributeError\u001b[0m                            Traceback (most recent call last)",
      "\u001b[1;32m~\\AppData\\Local\\Temp\\ipykernel_27568\\3091713688.py\u001b[0m in \u001b[0;36m<module>\u001b[1;34m\u001b[0m\n\u001b[0;32m      1\u001b[0m \u001b[0mnumber\u001b[0m \u001b[1;33m=\u001b[0m \u001b[1;36m627\u001b[0m\u001b[1;33m\u001b[0m\u001b[1;33m\u001b[0m\u001b[0m\n\u001b[0;32m      2\u001b[0m \u001b[1;33m\u001b[0m\u001b[0m\n\u001b[1;32m----> 3\u001b[1;33m \u001b[0mnumber\u001b[0m\u001b[1;33m.\u001b[0m\u001b[0mupper\u001b[0m\u001b[1;33m(\u001b[0m\u001b[1;33m)\u001b[0m\u001b[1;33m\u001b[0m\u001b[1;33m\u001b[0m\u001b[0m\n\u001b[0m",
      "\u001b[1;31mAttributeError\u001b[0m: 'int' object has no attribute 'upper'"
     ]
    }
   ],
   "source": [
    "number = 627\n",
    "\n",
    "number.upper()"
   ]
  },
  {
   "cell_type": "markdown",
   "metadata": {
    "slideshow": {
     "slide_type": "slide"
    }
   },
   "source": [
    "## EXERCISE 2: FUNCTIONS, METHODS AND TYPES\n",
    "\n",
    "- Define a number, string and list of numbers\n",
    "- Check the types\n",
    "- Try using the function `min()` on the variables\n",
    "- Try using the method `.upper()` on the variables\n",
    "- Check whether the minimum number in list is larger than X"
   ]
  },
  {
   "cell_type": "markdown",
   "metadata": {},
   "source": [
    "### EXERCISE 2: FUNCTIONS, METHODS AND TYPES"
   ]
  },
  {
   "cell_type": "markdown",
   "metadata": {
    "slideshow": {
     "slide_type": "slide"
    }
   },
   "source": [
    "## The boolean type\n",
    "*Boolean* variables are variables containing the value `True` or `False`.\n",
    "\n",
    "When using the following operators (among others), python will interpret it as a boolean:\n",
    "- `>`\n",
    "- `>=`\n",
    "- `<`\n",
    "- `<=`\n",
    "- `==`\n",
    "- `!=`\n",
    "\n",
    "Booleans can be used in functions, loops and if-statements to ensure that a certain condition is met before something is run."
   ]
  },
  {
   "cell_type": "markdown",
   "metadata": {
    "slideshow": {
     "slide_type": "slide"
    }
   },
   "source": [
    "## Importing modules\n",
    "Base python has very limited functionality. You will always have to import various modules (also referred to as \"packages\") in order to perform your analysis.\n",
    "\n",
    "A module/package is a collection of functions, variables and methods that can be loaded into your python environment.\n",
    "\n",
    "Once loaded, the contents of the module is usable in the python environment.\n",
    "\n",
    "It is possible to either import whole modules or parts of a module."
   ]
  },
  {
   "cell_type": "code",
   "execution_count": 40,
   "metadata": {
    "slideshow": {
     "slide_type": "slide"
    }
   },
   "outputs": [
    {
     "ename": "NameError",
     "evalue": "name 'sqrt' is not defined",
     "output_type": "error",
     "traceback": [
      "\u001b[1;31m---------------------------------------------------------------------------\u001b[0m",
      "\u001b[1;31mNameError\u001b[0m                                 Traceback (most recent call last)",
      "\u001b[1;32m~\\AppData\\Local\\Temp\\ipykernel_27568\\1006002569.py\u001b[0m in \u001b[0;36m<module>\u001b[1;34m\u001b[0m\n\u001b[0;32m      2\u001b[0m \u001b[0mb\u001b[0m \u001b[1;33m=\u001b[0m \u001b[1;36m28\u001b[0m\u001b[1;33m\u001b[0m\u001b[1;33m\u001b[0m\u001b[0m\n\u001b[0;32m      3\u001b[0m \u001b[1;33m\u001b[0m\u001b[0m\n\u001b[1;32m----> 4\u001b[1;33m \u001b[0mc\u001b[0m \u001b[1;33m=\u001b[0m \u001b[0msqrt\u001b[0m\u001b[1;33m(\u001b[0m\u001b[0ma\u001b[0m\u001b[1;33m**\u001b[0m\u001b[1;36m2\u001b[0m \u001b[1;33m+\u001b[0m \u001b[0mb\u001b[0m\u001b[1;33m**\u001b[0m\u001b[1;36m2\u001b[0m\u001b[1;33m)\u001b[0m\u001b[1;33m\u001b[0m\u001b[1;33m\u001b[0m\u001b[0m\n\u001b[0m\u001b[0;32m      5\u001b[0m \u001b[0mprint\u001b[0m\u001b[1;33m(\u001b[0m\u001b[0mc\u001b[0m\u001b[1;33m)\u001b[0m\u001b[1;33m\u001b[0m\u001b[1;33m\u001b[0m\u001b[0m\n",
      "\u001b[1;31mNameError\u001b[0m: name 'sqrt' is not defined"
     ]
    }
   ],
   "source": [
    "a = 12\n",
    "b = 28\n",
    "\n",
    "c = sqrt(a**2 + b**2)\n",
    "print(c)"
   ]
  },
  {
   "cell_type": "code",
   "execution_count": 41,
   "metadata": {
    "slideshow": {
     "slide_type": "fragment"
    }
   },
   "outputs": [],
   "source": [
    "import math #whole module/package\n",
    "\n",
    "# Or...\n",
    "\n",
    "from math import sqrt #specific function/method"
   ]
  },
  {
   "cell_type": "code",
   "execution_count": 42,
   "metadata": {
    "slideshow": {
     "slide_type": "fragment"
    }
   },
   "outputs": [
    {
     "name": "stdout",
     "output_type": "stream",
     "text": [
      "30.463092423455635\n"
     ]
    }
   ],
   "source": [
    "c = sqrt(a**2 + b**2)\n",
    "print(c)"
   ]
  },
  {
   "cell_type": "markdown",
   "metadata": {
    "slideshow": {
     "slide_type": "slide"
    }
   },
   "source": [
    "## Working with table data: Pandas\n",
    "\n",
    "*Pandas* is a module that allows you to create dataframes in python: A spreadsheet-like data structure for data with rows and columns.\n",
    "\n",
    "The pandas modules contain a lot of instruments and methods for data handling and processing.\n",
    "\n",
    "A `DataFrame` is a type. An important subtype is a `series`: A one-dimensional datastructure with an index (like a type-specific list or a variable, as it is understood in statistics).\n",
    "\n",
    "With the pandas module, various files can be imported directly as dataframes (also from the web).\n",
    "\n",
    "We are working with a subset of the danish section of the 2018 European Social Survey: http://www.europeansocialsurvey.org/"
   ]
  },
  {
   "cell_type": "code",
   "execution_count": 43,
   "metadata": {
    "slideshow": {
     "slide_type": "fragment"
    }
   },
   "outputs": [],
   "source": [
    "import pandas as pd\n",
    "\n",
    "ess = pd.read_csv('https://raw.githubusercontent.com/CALDISS-AAU/workshop_R-intro/master/data/ESS2018DK_subset.csv')"
   ]
  },
  {
   "cell_type": "markdown",
   "metadata": {
    "slideshow": {
     "slide_type": "slide"
    }
   },
   "source": [
    "### Inspecting DataFrames\n",
    "\n",
    "Use the method `.head()` to inspect the first 5 rows of the data."
   ]
  },
  {
   "cell_type": "code",
   "execution_count": 44,
   "metadata": {
    "slideshow": {
     "slide_type": "fragment"
    }
   },
   "outputs": [
    {
     "data": {
      "text/html": [
       "<div>\n",
       "<style scoped>\n",
       "    .dataframe tbody tr th:only-of-type {\n",
       "        vertical-align: middle;\n",
       "    }\n",
       "\n",
       "    .dataframe tbody tr th {\n",
       "        vertical-align: top;\n",
       "    }\n",
       "\n",
       "    .dataframe thead th {\n",
       "        text-align: right;\n",
       "    }\n",
       "</style>\n",
       "<table border=\"1\" class=\"dataframe\">\n",
       "  <thead>\n",
       "    <tr style=\"text-align: right;\">\n",
       "      <th></th>\n",
       "      <th>idno</th>\n",
       "      <th>netustm</th>\n",
       "      <th>ppltrst</th>\n",
       "      <th>vote</th>\n",
       "      <th>prtvtddk</th>\n",
       "      <th>lvpntyr</th>\n",
       "      <th>tygrtr</th>\n",
       "      <th>gndr</th>\n",
       "      <th>yrbrn</th>\n",
       "      <th>edlvddk</th>\n",
       "      <th>eduyrs</th>\n",
       "      <th>wkhct</th>\n",
       "      <th>wkhtot</th>\n",
       "      <th>grspnum</th>\n",
       "      <th>frlgrsp</th>\n",
       "      <th>inwtm</th>\n",
       "    </tr>\n",
       "  </thead>\n",
       "  <tbody>\n",
       "    <tr>\n",
       "      <th>0</th>\n",
       "      <td>5816</td>\n",
       "      <td>90.0</td>\n",
       "      <td>7.0</td>\n",
       "      <td>Yes</td>\n",
       "      <td>SF Socialistisk Folkeparti - Socialist People'...</td>\n",
       "      <td>1994</td>\n",
       "      <td>60</td>\n",
       "      <td>Male</td>\n",
       "      <td>1974</td>\n",
       "      <td>Mellemlang videregående uddannelse af 3-4 års ...</td>\n",
       "      <td>35.0</td>\n",
       "      <td>37.0</td>\n",
       "      <td>37.0</td>\n",
       "      <td>37000.0</td>\n",
       "      <td>35000.0</td>\n",
       "      <td>61.0</td>\n",
       "    </tr>\n",
       "    <tr>\n",
       "      <th>1</th>\n",
       "      <td>7251</td>\n",
       "      <td>300.0</td>\n",
       "      <td>5.0</td>\n",
       "      <td>Yes</td>\n",
       "      <td>Dansk Folkeparti - Danish People's Party</td>\n",
       "      <td>1993</td>\n",
       "      <td>40</td>\n",
       "      <td>Female</td>\n",
       "      <td>1975</td>\n",
       "      <td>Faglig uddannelse (håndværk, handel, landbrug ...</td>\n",
       "      <td>13.0</td>\n",
       "      <td>32.0</td>\n",
       "      <td>34.0</td>\n",
       "      <td>22000.0</td>\n",
       "      <td>30000.0</td>\n",
       "      <td>68.0</td>\n",
       "    </tr>\n",
       "    <tr>\n",
       "      <th>2</th>\n",
       "      <td>7887</td>\n",
       "      <td>360.0</td>\n",
       "      <td>8.0</td>\n",
       "      <td>Yes</td>\n",
       "      <td>Socialdemokratiet - The Social democrats</td>\n",
       "      <td>1983</td>\n",
       "      <td>55</td>\n",
       "      <td>Male</td>\n",
       "      <td>1958</td>\n",
       "      <td>Lang videregående uddannelse. Kandidatuddannel...</td>\n",
       "      <td>25.0</td>\n",
       "      <td>39.0</td>\n",
       "      <td>39.0</td>\n",
       "      <td>36000.0</td>\n",
       "      <td>42000.0</td>\n",
       "      <td>89.0</td>\n",
       "    </tr>\n",
       "    <tr>\n",
       "      <th>3</th>\n",
       "      <td>9607</td>\n",
       "      <td>540.0</td>\n",
       "      <td>9.0</td>\n",
       "      <td>Yes</td>\n",
       "      <td>Alternativet - The Alternative</td>\n",
       "      <td>1982</td>\n",
       "      <td>64</td>\n",
       "      <td>Female</td>\n",
       "      <td>1964</td>\n",
       "      <td>Mellemlang videregående uddannelse af 3-4 års ...</td>\n",
       "      <td>13.0</td>\n",
       "      <td>32.0</td>\n",
       "      <td>34.0</td>\n",
       "      <td>32000.0</td>\n",
       "      <td>NaN</td>\n",
       "      <td>50.0</td>\n",
       "    </tr>\n",
       "    <tr>\n",
       "      <th>4</th>\n",
       "      <td>11688</td>\n",
       "      <td>NaN</td>\n",
       "      <td>5.0</td>\n",
       "      <td>Yes</td>\n",
       "      <td>Socialdemokratiet - The Social democrats</td>\n",
       "      <td>1968</td>\n",
       "      <td>50</td>\n",
       "      <td>Female</td>\n",
       "      <td>1952</td>\n",
       "      <td>Faglig uddannelse (håndværk, handel, landbrug ...</td>\n",
       "      <td>2.0</td>\n",
       "      <td>37.0</td>\n",
       "      <td>37.0</td>\n",
       "      <td>NaN</td>\n",
       "      <td>NaN</td>\n",
       "      <td>77.0</td>\n",
       "    </tr>\n",
       "  </tbody>\n",
       "</table>\n",
       "</div>"
      ],
      "text/plain": [
       "    idno  netustm  ppltrst vote  \\\n",
       "0   5816     90.0      7.0  Yes   \n",
       "1   7251    300.0      5.0  Yes   \n",
       "2   7887    360.0      8.0  Yes   \n",
       "3   9607    540.0      9.0  Yes   \n",
       "4  11688      NaN      5.0  Yes   \n",
       "\n",
       "                                            prtvtddk lvpntyr tygrtr    gndr  \\\n",
       "0  SF Socialistisk Folkeparti - Socialist People'...    1994     60    Male   \n",
       "1           Dansk Folkeparti - Danish People's Party    1993     40  Female   \n",
       "2           Socialdemokratiet - The Social democrats    1983     55    Male   \n",
       "3                     Alternativet - The Alternative    1982     64  Female   \n",
       "4           Socialdemokratiet - The Social democrats    1968     50  Female   \n",
       "\n",
       "   yrbrn                                            edlvddk  eduyrs  wkhct  \\\n",
       "0   1974  Mellemlang videregående uddannelse af 3-4 års ...    35.0   37.0   \n",
       "1   1975  Faglig uddannelse (håndværk, handel, landbrug ...    13.0   32.0   \n",
       "2   1958  Lang videregående uddannelse. Kandidatuddannel...    25.0   39.0   \n",
       "3   1964  Mellemlang videregående uddannelse af 3-4 års ...    13.0   32.0   \n",
       "4   1952  Faglig uddannelse (håndværk, handel, landbrug ...     2.0   37.0   \n",
       "\n",
       "   wkhtot  grspnum  frlgrsp  inwtm  \n",
       "0    37.0  37000.0  35000.0   61.0  \n",
       "1    34.0  22000.0  30000.0   68.0  \n",
       "2    39.0  36000.0  42000.0   89.0  \n",
       "3    34.0  32000.0      NaN   50.0  \n",
       "4    37.0      NaN      NaN   77.0  "
      ]
     },
     "execution_count": 44,
     "metadata": {},
     "output_type": "execute_result"
    }
   ],
   "source": [
    "ess.head()"
   ]
  },
  {
   "cell_type": "markdown",
   "metadata": {
    "slideshow": {
     "slide_type": "fragment"
    }
   },
   "source": [
    "Inspect column names with method .columns"
   ]
  },
  {
   "cell_type": "code",
   "execution_count": 45,
   "metadata": {
    "slideshow": {
     "slide_type": "fragment"
    }
   },
   "outputs": [
    {
     "data": {
      "text/plain": [
       "['idno',\n",
       " 'netustm',\n",
       " 'ppltrst',\n",
       " 'vote',\n",
       " 'prtvtddk',\n",
       " 'lvpntyr',\n",
       " 'tygrtr',\n",
       " 'gndr',\n",
       " 'yrbrn',\n",
       " 'edlvddk',\n",
       " 'eduyrs',\n",
       " 'wkhct',\n",
       " 'wkhtot',\n",
       " 'grspnum',\n",
       " 'frlgrsp',\n",
       " 'inwtm']"
      ]
     },
     "execution_count": 45,
     "metadata": {},
     "output_type": "execute_result"
    }
   ],
   "source": [
    "list(ess.columns)"
   ]
  },
  {
   "cell_type": "code",
   "execution_count": 46,
   "metadata": {},
   "outputs": [
    {
     "name": "stdout",
     "output_type": "stream",
     "text": [
      "<class 'pandas.core.frame.DataFrame'>\n",
      "RangeIndex: 1285 entries, 0 to 1284\n",
      "Data columns (total 16 columns):\n",
      " #   Column    Non-Null Count  Dtype  \n",
      "---  ------    --------------  -----  \n",
      " 0   idno      1285 non-null   int64  \n",
      " 1   netustm   1134 non-null   float64\n",
      " 2   ppltrst   1282 non-null   float64\n",
      " 3   vote      1283 non-null   object \n",
      " 4   prtvtddk  1064 non-null   object \n",
      " 5   lvpntyr   1280 non-null   object \n",
      " 6   tygrtr    1135 non-null   object \n",
      " 7   gndr      1285 non-null   object \n",
      " 8   yrbrn     1285 non-null   int64  \n",
      " 9   edlvddk   1285 non-null   object \n",
      " 10  eduyrs    1278 non-null   float64\n",
      " 11  wkhct     1217 non-null   float64\n",
      " 12  wkhtot    1258 non-null   float64\n",
      " 13  grspnum   715 non-null    float64\n",
      " 14  frlgrsp   252 non-null    float64\n",
      " 15  inwtm     1280 non-null   float64\n",
      "dtypes: float64(8), int64(2), object(6)\n",
      "memory usage: 160.8+ KB\n"
     ]
    }
   ],
   "source": [
    "ess.info()"
   ]
  },
  {
   "cell_type": "markdown",
   "metadata": {
    "slideshow": {
     "slide_type": "slide"
    }
   },
   "source": [
    "See key summary statistics using `.descibe()`. (n, mean, std, min, max, quartiles)."
   ]
  },
  {
   "cell_type": "code",
   "execution_count": 47,
   "metadata": {
    "slideshow": {
     "slide_type": "fragment"
    }
   },
   "outputs": [
    {
     "data": {
      "text/html": [
       "<div>\n",
       "<style scoped>\n",
       "    .dataframe tbody tr th:only-of-type {\n",
       "        vertical-align: middle;\n",
       "    }\n",
       "\n",
       "    .dataframe tbody tr th {\n",
       "        vertical-align: top;\n",
       "    }\n",
       "\n",
       "    .dataframe thead th {\n",
       "        text-align: right;\n",
       "    }\n",
       "</style>\n",
       "<table border=\"1\" class=\"dataframe\">\n",
       "  <thead>\n",
       "    <tr style=\"text-align: right;\">\n",
       "      <th></th>\n",
       "      <th>idno</th>\n",
       "      <th>netustm</th>\n",
       "      <th>ppltrst</th>\n",
       "      <th>yrbrn</th>\n",
       "      <th>eduyrs</th>\n",
       "      <th>wkhct</th>\n",
       "      <th>wkhtot</th>\n",
       "      <th>grspnum</th>\n",
       "      <th>frlgrsp</th>\n",
       "      <th>inwtm</th>\n",
       "    </tr>\n",
       "  </thead>\n",
       "  <tbody>\n",
       "    <tr>\n",
       "      <th>count</th>\n",
       "      <td>1285.000000</td>\n",
       "      <td>1134.000000</td>\n",
       "      <td>1282.000000</td>\n",
       "      <td>1285.000000</td>\n",
       "      <td>1278.000000</td>\n",
       "      <td>1217.000000</td>\n",
       "      <td>1258.000000</td>\n",
       "      <td>7.150000e+02</td>\n",
       "      <td>252.000000</td>\n",
       "      <td>1280.000000</td>\n",
       "    </tr>\n",
       "    <tr>\n",
       "      <th>mean</th>\n",
       "      <td>110979.542412</td>\n",
       "      <td>227.431217</td>\n",
       "      <td>7.079563</td>\n",
       "      <td>1967.047471</td>\n",
       "      <td>13.996088</td>\n",
       "      <td>33.806902</td>\n",
       "      <td>36.441176</td>\n",
       "      <td>4.368549e+04</td>\n",
       "      <td>37255.230159</td>\n",
       "      <td>63.323437</td>\n",
       "    </tr>\n",
       "    <tr>\n",
       "      <th>std</th>\n",
       "      <td>25534.338367</td>\n",
       "      <td>193.406614</td>\n",
       "      <td>1.800747</td>\n",
       "      <td>18.294410</td>\n",
       "      <td>5.746878</td>\n",
       "      <td>9.399469</td>\n",
       "      <td>11.762775</td>\n",
       "      <td>1.221933e+05</td>\n",
       "      <td>33449.267184</td>\n",
       "      <td>26.102194</td>\n",
       "    </tr>\n",
       "    <tr>\n",
       "      <th>min</th>\n",
       "      <td>5816.000000</td>\n",
       "      <td>0.000000</td>\n",
       "      <td>0.000000</td>\n",
       "      <td>1929.000000</td>\n",
       "      <td>0.000000</td>\n",
       "      <td>0.000000</td>\n",
       "      <td>0.000000</td>\n",
       "      <td>0.000000e+00</td>\n",
       "      <td>0.000000</td>\n",
       "      <td>18.000000</td>\n",
       "    </tr>\n",
       "    <tr>\n",
       "      <th>25%</th>\n",
       "      <td>93707.000000</td>\n",
       "      <td>90.000000</td>\n",
       "      <td>6.000000</td>\n",
       "      <td>1952.000000</td>\n",
       "      <td>11.000000</td>\n",
       "      <td>35.000000</td>\n",
       "      <td>35.000000</td>\n",
       "      <td>2.600000e+04</td>\n",
       "      <td>28375.000000</td>\n",
       "      <td>51.000000</td>\n",
       "    </tr>\n",
       "    <tr>\n",
       "      <th>50%</th>\n",
       "      <td>112877.000000</td>\n",
       "      <td>150.000000</td>\n",
       "      <td>7.000000</td>\n",
       "      <td>1966.000000</td>\n",
       "      <td>14.000000</td>\n",
       "      <td>37.000000</td>\n",
       "      <td>37.000000</td>\n",
       "      <td>3.200000e+04</td>\n",
       "      <td>35000.000000</td>\n",
       "      <td>59.000000</td>\n",
       "    </tr>\n",
       "    <tr>\n",
       "      <th>75%</th>\n",
       "      <td>131072.000000</td>\n",
       "      <td>300.000000</td>\n",
       "      <td>8.000000</td>\n",
       "      <td>1982.000000</td>\n",
       "      <td>17.000000</td>\n",
       "      <td>37.000000</td>\n",
       "      <td>41.000000</td>\n",
       "      <td>4.100000e+04</td>\n",
       "      <td>40000.000000</td>\n",
       "      <td>70.000000</td>\n",
       "    </tr>\n",
       "    <tr>\n",
       "      <th>max</th>\n",
       "      <td>150446.000000</td>\n",
       "      <td>1020.000000</td>\n",
       "      <td>10.000000</td>\n",
       "      <td>2003.000000</td>\n",
       "      <td>40.000000</td>\n",
       "      <td>80.000000</td>\n",
       "      <td>90.000000</td>\n",
       "      <td>3.000000e+06</td>\n",
       "      <td>500000.000000</td>\n",
       "      <td>613.000000</td>\n",
       "    </tr>\n",
       "  </tbody>\n",
       "</table>\n",
       "</div>"
      ],
      "text/plain": [
       "                idno      netustm      ppltrst        yrbrn       eduyrs  \\\n",
       "count    1285.000000  1134.000000  1282.000000  1285.000000  1278.000000   \n",
       "mean   110979.542412   227.431217     7.079563  1967.047471    13.996088   \n",
       "std     25534.338367   193.406614     1.800747    18.294410     5.746878   \n",
       "min      5816.000000     0.000000     0.000000  1929.000000     0.000000   \n",
       "25%     93707.000000    90.000000     6.000000  1952.000000    11.000000   \n",
       "50%    112877.000000   150.000000     7.000000  1966.000000    14.000000   \n",
       "75%    131072.000000   300.000000     8.000000  1982.000000    17.000000   \n",
       "max    150446.000000  1020.000000    10.000000  2003.000000    40.000000   \n",
       "\n",
       "             wkhct       wkhtot       grspnum        frlgrsp        inwtm  \n",
       "count  1217.000000  1258.000000  7.150000e+02     252.000000  1280.000000  \n",
       "mean     33.806902    36.441176  4.368549e+04   37255.230159    63.323437  \n",
       "std       9.399469    11.762775  1.221933e+05   33449.267184    26.102194  \n",
       "min       0.000000     0.000000  0.000000e+00       0.000000    18.000000  \n",
       "25%      35.000000    35.000000  2.600000e+04   28375.000000    51.000000  \n",
       "50%      37.000000    37.000000  3.200000e+04   35000.000000    59.000000  \n",
       "75%      37.000000    41.000000  4.100000e+04   40000.000000    70.000000  \n",
       "max      80.000000    90.000000  3.000000e+06  500000.000000   613.000000  "
      ]
     },
     "execution_count": 47,
     "metadata": {},
     "output_type": "execute_result"
    }
   ],
   "source": [
    "ess.describe()"
   ]
  },
  {
   "cell_type": "markdown",
   "metadata": {
    "slideshow": {
     "slide_type": "slide"
    },
    "tags": []
   },
   "source": [
    "### Slicing rows and selecting columns\n",
    "\n",
    "Selecting rows is refered to as *slicing*. Rows can be selected by their index using `[]`. It excludes the last index.\n",
    "\n",
    "Columns can be selected the same way by refering to the column name."
   ]
  },
  {
   "cell_type": "code",
   "execution_count": 48,
   "metadata": {
    "slideshow": {
     "slide_type": "fragment"
    }
   },
   "outputs": [
    {
     "data": {
      "text/html": [
       "<div>\n",
       "<style scoped>\n",
       "    .dataframe tbody tr th:only-of-type {\n",
       "        vertical-align: middle;\n",
       "    }\n",
       "\n",
       "    .dataframe tbody tr th {\n",
       "        vertical-align: top;\n",
       "    }\n",
       "\n",
       "    .dataframe thead th {\n",
       "        text-align: right;\n",
       "    }\n",
       "</style>\n",
       "<table border=\"1\" class=\"dataframe\">\n",
       "  <thead>\n",
       "    <tr style=\"text-align: right;\">\n",
       "      <th></th>\n",
       "      <th>idno</th>\n",
       "      <th>netustm</th>\n",
       "      <th>ppltrst</th>\n",
       "      <th>vote</th>\n",
       "      <th>prtvtddk</th>\n",
       "      <th>lvpntyr</th>\n",
       "      <th>tygrtr</th>\n",
       "      <th>gndr</th>\n",
       "      <th>yrbrn</th>\n",
       "      <th>edlvddk</th>\n",
       "      <th>eduyrs</th>\n",
       "      <th>wkhct</th>\n",
       "      <th>wkhtot</th>\n",
       "      <th>grspnum</th>\n",
       "      <th>frlgrsp</th>\n",
       "      <th>inwtm</th>\n",
       "    </tr>\n",
       "  </thead>\n",
       "  <tbody>\n",
       "    <tr>\n",
       "      <th>0</th>\n",
       "      <td>5816</td>\n",
       "      <td>90.0</td>\n",
       "      <td>7.0</td>\n",
       "      <td>Yes</td>\n",
       "      <td>SF Socialistisk Folkeparti - Socialist People'...</td>\n",
       "      <td>1994</td>\n",
       "      <td>60</td>\n",
       "      <td>Male</td>\n",
       "      <td>1974</td>\n",
       "      <td>Mellemlang videregående uddannelse af 3-4 års ...</td>\n",
       "      <td>35.0</td>\n",
       "      <td>37.0</td>\n",
       "      <td>37.0</td>\n",
       "      <td>37000.0</td>\n",
       "      <td>35000.0</td>\n",
       "      <td>61.0</td>\n",
       "    </tr>\n",
       "  </tbody>\n",
       "</table>\n",
       "</div>"
      ],
      "text/plain": [
       "   idno  netustm  ppltrst vote  \\\n",
       "0  5816     90.0      7.0  Yes   \n",
       "\n",
       "                                            prtvtddk lvpntyr tygrtr  gndr  \\\n",
       "0  SF Socialistisk Folkeparti - Socialist People'...    1994     60  Male   \n",
       "\n",
       "   yrbrn                                            edlvddk  eduyrs  wkhct  \\\n",
       "0   1974  Mellemlang videregående uddannelse af 3-4 års ...    35.0   37.0   \n",
       "\n",
       "   wkhtot  grspnum  frlgrsp  inwtm  \n",
       "0    37.0  37000.0  35000.0   61.0  "
      ]
     },
     "execution_count": 48,
     "metadata": {},
     "output_type": "execute_result"
    }
   ],
   "source": [
    "ess[0:1] # First row"
   ]
  },
  {
   "cell_type": "code",
   "execution_count": 49,
   "metadata": {
    "slideshow": {
     "slide_type": "fragment"
    }
   },
   "outputs": [
    {
     "data": {
      "text/plain": [
       "0       37.0\n",
       "1       32.0\n",
       "2       39.0\n",
       "3       32.0\n",
       "4       37.0\n",
       "        ... \n",
       "1280    37.0\n",
       "1281    37.0\n",
       "1282    50.0\n",
       "1283    37.0\n",
       "1284    40.0\n",
       "Name: wkhct, Length: 1285, dtype: float64"
      ]
     },
     "execution_count": 49,
     "metadata": {},
     "output_type": "execute_result"
    }
   ],
   "source": [
    "ess['wkhct'] # Selecting wkhct column."
   ]
  },
  {
   "cell_type": "markdown",
   "metadata": {
    "slideshow": {
     "slide_type": "slide"
    }
   },
   "source": [
    "The method `.loc[]` is used for subsetting the data. First rows, then columns. Columns have to be specified by their name.\n",
    "\n",
    "Several columns can be selected by refering to a list of column names.\n",
    "\n",
    "Unlike the \"standard\" indexing/slicing, using `.loc[]` includes the last index.\n",
    "\n",
    "*NOTE*: `.loc[]` is also used for recoding specific values."
   ]
  },
  {
   "cell_type": "code",
   "execution_count": 50,
   "metadata": {
    "slideshow": {
     "slide_type": "fragment"
    }
   },
   "outputs": [
    {
     "data": {
      "text/plain": [
       "2    39.0\n",
       "3    32.0\n",
       "4    37.0\n",
       "Name: wkhct, dtype: float64"
      ]
     },
     "execution_count": 50,
     "metadata": {},
     "output_type": "execute_result"
    }
   ],
   "source": [
    "ess.loc[2:4, 'wkhct'] # Returns as a series"
   ]
  },
  {
   "cell_type": "code",
   "execution_count": 51,
   "metadata": {
    "slideshow": {
     "slide_type": "fragment"
    }
   },
   "outputs": [
    {
     "data": {
      "text/html": [
       "<div>\n",
       "<style scoped>\n",
       "    .dataframe tbody tr th:only-of-type {\n",
       "        vertical-align: middle;\n",
       "    }\n",
       "\n",
       "    .dataframe tbody tr th {\n",
       "        vertical-align: top;\n",
       "    }\n",
       "\n",
       "    .dataframe thead th {\n",
       "        text-align: right;\n",
       "    }\n",
       "</style>\n",
       "<table border=\"1\" class=\"dataframe\">\n",
       "  <thead>\n",
       "    <tr style=\"text-align: right;\">\n",
       "      <th></th>\n",
       "      <th>wkhct</th>\n",
       "      <th>yrbrn</th>\n",
       "    </tr>\n",
       "  </thead>\n",
       "  <tbody>\n",
       "    <tr>\n",
       "      <th>2</th>\n",
       "      <td>39.0</td>\n",
       "      <td>1958</td>\n",
       "    </tr>\n",
       "    <tr>\n",
       "      <th>3</th>\n",
       "      <td>32.0</td>\n",
       "      <td>1964</td>\n",
       "    </tr>\n",
       "    <tr>\n",
       "      <th>4</th>\n",
       "      <td>37.0</td>\n",
       "      <td>1952</td>\n",
       "    </tr>\n",
       "  </tbody>\n",
       "</table>\n",
       "</div>"
      ],
      "text/plain": [
       "   wkhct  yrbrn\n",
       "2   39.0   1958\n",
       "3   32.0   1964\n",
       "4   37.0   1952"
      ]
     },
     "execution_count": 51,
     "metadata": {},
     "output_type": "execute_result"
    }
   ],
   "source": [
    "ess.loc[2:4, ['wkhct', 'yrbrn']] # Returns as a dataframe"
   ]
  },
  {
   "cell_type": "code",
   "execution_count": 52,
   "metadata": {
    "slideshow": {
     "slide_type": "subslide"
    }
   },
   "outputs": [
    {
     "data": {
      "text/html": [
       "<div>\n",
       "<style scoped>\n",
       "    .dataframe tbody tr th:only-of-type {\n",
       "        vertical-align: middle;\n",
       "    }\n",
       "\n",
       "    .dataframe tbody tr th {\n",
       "        vertical-align: top;\n",
       "    }\n",
       "\n",
       "    .dataframe thead th {\n",
       "        text-align: right;\n",
       "    }\n",
       "</style>\n",
       "<table border=\"1\" class=\"dataframe\">\n",
       "  <thead>\n",
       "    <tr style=\"text-align: right;\">\n",
       "      <th></th>\n",
       "      <th>wkhct</th>\n",
       "      <th>yrbrn</th>\n",
       "    </tr>\n",
       "  </thead>\n",
       "  <tbody>\n",
       "    <tr>\n",
       "      <th>2</th>\n",
       "      <td>39.0</td>\n",
       "      <td>1958</td>\n",
       "    </tr>\n",
       "    <tr>\n",
       "      <th>3</th>\n",
       "      <td>32.0</td>\n",
       "      <td>1964</td>\n",
       "    </tr>\n",
       "  </tbody>\n",
       "</table>\n",
       "</div>"
      ],
      "text/plain": [
       "   wkhct  yrbrn\n",
       "2   39.0   1958\n",
       "3   32.0   1964"
      ]
     },
     "execution_count": 52,
     "metadata": {},
     "output_type": "execute_result"
    }
   ],
   "source": [
    "ess[2:4][['wkhct', 'yrbrn']] # Alternative - excludes last index"
   ]
  },
  {
   "cell_type": "markdown",
   "metadata": {},
   "source": [
    "### Series\n",
    "\n",
    "A pandas \"series\" is a single columnn of a dataframe - corresponding to a variable in the statistical sense.\n",
    "\n",
    "A series is refered to by using `[]` and using the column name as the key:"
   ]
  },
  {
   "cell_type": "code",
   "execution_count": 53,
   "metadata": {},
   "outputs": [
    {
     "data": {
      "text/plain": [
       "0    37.0\n",
       "1    32.0\n",
       "2    39.0\n",
       "3    32.0\n",
       "4    37.0\n",
       "Name: wkhct, dtype: float64"
      ]
     },
     "execution_count": 53,
     "metadata": {},
     "output_type": "execute_result"
    }
   ],
   "source": [
    "ess['wkhct'].head()"
   ]
  },
  {
   "cell_type": "markdown",
   "metadata": {
    "slideshow": {
     "slide_type": "slide"
    }
   },
   "source": [
    "### Operations on dataframes\n",
    "\n",
    "Operations on dataframes can be done both arithmetically or by using pandas methods. "
   ]
  },
  {
   "cell_type": "code",
   "execution_count": 54,
   "metadata": {
    "slideshow": {
     "slide_type": "fragment"
    }
   },
   "outputs": [
    {
     "data": {
      "text/plain": [
       "0    1.5\n",
       "1    5.0\n",
       "2    6.0\n",
       "3    9.0\n",
       "4    NaN\n",
       "Name: netustm, dtype: float64"
      ]
     },
     "execution_count": 54,
     "metadata": {},
     "output_type": "execute_result"
    }
   ],
   "source": [
    "(ess['netustm'] / 60).head() #converting to hours - first 5 rows"
   ]
  },
  {
   "cell_type": "code",
   "execution_count": 55,
   "metadata": {
    "slideshow": {
     "slide_type": "fragment"
    }
   },
   "outputs": [
    {
     "data": {
      "text/plain": [
       "227.43121693121694"
      ]
     },
     "execution_count": 55,
     "metadata": {},
     "output_type": "execute_result"
    }
   ],
   "source": [
    "ess['netustm'].mean()"
   ]
  },
  {
   "cell_type": "markdown",
   "metadata": {
    "slideshow": {
     "slide_type": "subslide"
    }
   },
   "source": [
    "The type of a dataframe column (series) can be inspected using the attribute `dtypes`."
   ]
  },
  {
   "cell_type": "code",
   "execution_count": 56,
   "metadata": {
    "slideshow": {
     "slide_type": "fragment"
    }
   },
   "outputs": [
    {
     "data": {
      "text/plain": [
       "dtype('float64')"
      ]
     },
     "execution_count": 56,
     "metadata": {},
     "output_type": "execute_result"
    }
   ],
   "source": [
    "ess['netustm'].dtypes"
   ]
  },
  {
   "cell_type": "markdown",
   "metadata": {
    "slideshow": {
     "slide_type": "slide"
    }
   },
   "source": [
    "### Creating variables\n",
    "\n",
    "Variables are created by refering to columns not yet in the dataframe."
   ]
  },
  {
   "cell_type": "code",
   "execution_count": 57,
   "metadata": {
    "slideshow": {
     "slide_type": "fragment"
    }
   },
   "outputs": [
    {
     "data": {
      "text/plain": [
       "['idno',\n",
       " 'netustm',\n",
       " 'ppltrst',\n",
       " 'vote',\n",
       " 'prtvtddk',\n",
       " 'lvpntyr',\n",
       " 'tygrtr',\n",
       " 'gndr',\n",
       " 'yrbrn',\n",
       " 'edlvddk',\n",
       " 'eduyrs',\n",
       " 'wkhct',\n",
       " 'wkhtot',\n",
       " 'grspnum',\n",
       " 'frlgrsp',\n",
       " 'inwtm']"
      ]
     },
     "execution_count": 57,
     "metadata": {},
     "output_type": "execute_result"
    }
   ],
   "source": [
    "list(ess.columns)"
   ]
  },
  {
   "cell_type": "code",
   "execution_count": 58,
   "metadata": {},
   "outputs": [],
   "source": [
    "ess['netusth'] = ess['netustm'] / 60"
   ]
  },
  {
   "cell_type": "markdown",
   "metadata": {
    "slideshow": {
     "slide_type": "slide"
    }
   },
   "source": [
    "Empty variables/columns are created the same way but by filling them with missing values (NaN).\n",
    "\n",
    "The `numpy` module allows us to work with the NaN value."
   ]
  },
  {
   "cell_type": "code",
   "execution_count": 59,
   "metadata": {
    "slideshow": {
     "slide_type": "fragment"
    }
   },
   "outputs": [
    {
     "data": {
      "text/html": [
       "<div>\n",
       "<style scoped>\n",
       "    .dataframe tbody tr th:only-of-type {\n",
       "        vertical-align: middle;\n",
       "    }\n",
       "\n",
       "    .dataframe tbody tr th {\n",
       "        vertical-align: top;\n",
       "    }\n",
       "\n",
       "    .dataframe thead th {\n",
       "        text-align: right;\n",
       "    }\n",
       "</style>\n",
       "<table border=\"1\" class=\"dataframe\">\n",
       "  <thead>\n",
       "    <tr style=\"text-align: right;\">\n",
       "      <th></th>\n",
       "      <th>idno</th>\n",
       "      <th>netustm</th>\n",
       "      <th>ppltrst</th>\n",
       "      <th>vote</th>\n",
       "      <th>prtvtddk</th>\n",
       "      <th>lvpntyr</th>\n",
       "      <th>tygrtr</th>\n",
       "      <th>gndr</th>\n",
       "      <th>yrbrn</th>\n",
       "      <th>edlvddk</th>\n",
       "      <th>eduyrs</th>\n",
       "      <th>wkhct</th>\n",
       "      <th>wkhtot</th>\n",
       "      <th>grspnum</th>\n",
       "      <th>frlgrsp</th>\n",
       "      <th>inwtm</th>\n",
       "      <th>netusth</th>\n",
       "      <th>wkhtot_category</th>\n",
       "    </tr>\n",
       "  </thead>\n",
       "  <tbody>\n",
       "    <tr>\n",
       "      <th>0</th>\n",
       "      <td>5816</td>\n",
       "      <td>90.0</td>\n",
       "      <td>7.0</td>\n",
       "      <td>Yes</td>\n",
       "      <td>SF Socialistisk Folkeparti - Socialist People'...</td>\n",
       "      <td>1994</td>\n",
       "      <td>60</td>\n",
       "      <td>Male</td>\n",
       "      <td>1974</td>\n",
       "      <td>Mellemlang videregående uddannelse af 3-4 års ...</td>\n",
       "      <td>35.0</td>\n",
       "      <td>37.0</td>\n",
       "      <td>37.0</td>\n",
       "      <td>37000.0</td>\n",
       "      <td>35000.0</td>\n",
       "      <td>61.0</td>\n",
       "      <td>1.5</td>\n",
       "      <td>NaN</td>\n",
       "    </tr>\n",
       "    <tr>\n",
       "      <th>1</th>\n",
       "      <td>7251</td>\n",
       "      <td>300.0</td>\n",
       "      <td>5.0</td>\n",
       "      <td>Yes</td>\n",
       "      <td>Dansk Folkeparti - Danish People's Party</td>\n",
       "      <td>1993</td>\n",
       "      <td>40</td>\n",
       "      <td>Female</td>\n",
       "      <td>1975</td>\n",
       "      <td>Faglig uddannelse (håndværk, handel, landbrug ...</td>\n",
       "      <td>13.0</td>\n",
       "      <td>32.0</td>\n",
       "      <td>34.0</td>\n",
       "      <td>22000.0</td>\n",
       "      <td>30000.0</td>\n",
       "      <td>68.0</td>\n",
       "      <td>5.0</td>\n",
       "      <td>NaN</td>\n",
       "    </tr>\n",
       "    <tr>\n",
       "      <th>2</th>\n",
       "      <td>7887</td>\n",
       "      <td>360.0</td>\n",
       "      <td>8.0</td>\n",
       "      <td>Yes</td>\n",
       "      <td>Socialdemokratiet - The Social democrats</td>\n",
       "      <td>1983</td>\n",
       "      <td>55</td>\n",
       "      <td>Male</td>\n",
       "      <td>1958</td>\n",
       "      <td>Lang videregående uddannelse. Kandidatuddannel...</td>\n",
       "      <td>25.0</td>\n",
       "      <td>39.0</td>\n",
       "      <td>39.0</td>\n",
       "      <td>36000.0</td>\n",
       "      <td>42000.0</td>\n",
       "      <td>89.0</td>\n",
       "      <td>6.0</td>\n",
       "      <td>NaN</td>\n",
       "    </tr>\n",
       "    <tr>\n",
       "      <th>3</th>\n",
       "      <td>9607</td>\n",
       "      <td>540.0</td>\n",
       "      <td>9.0</td>\n",
       "      <td>Yes</td>\n",
       "      <td>Alternativet - The Alternative</td>\n",
       "      <td>1982</td>\n",
       "      <td>64</td>\n",
       "      <td>Female</td>\n",
       "      <td>1964</td>\n",
       "      <td>Mellemlang videregående uddannelse af 3-4 års ...</td>\n",
       "      <td>13.0</td>\n",
       "      <td>32.0</td>\n",
       "      <td>34.0</td>\n",
       "      <td>32000.0</td>\n",
       "      <td>NaN</td>\n",
       "      <td>50.0</td>\n",
       "      <td>9.0</td>\n",
       "      <td>NaN</td>\n",
       "    </tr>\n",
       "    <tr>\n",
       "      <th>4</th>\n",
       "      <td>11688</td>\n",
       "      <td>NaN</td>\n",
       "      <td>5.0</td>\n",
       "      <td>Yes</td>\n",
       "      <td>Socialdemokratiet - The Social democrats</td>\n",
       "      <td>1968</td>\n",
       "      <td>50</td>\n",
       "      <td>Female</td>\n",
       "      <td>1952</td>\n",
       "      <td>Faglig uddannelse (håndværk, handel, landbrug ...</td>\n",
       "      <td>2.0</td>\n",
       "      <td>37.0</td>\n",
       "      <td>37.0</td>\n",
       "      <td>NaN</td>\n",
       "      <td>NaN</td>\n",
       "      <td>77.0</td>\n",
       "      <td>NaN</td>\n",
       "      <td>NaN</td>\n",
       "    </tr>\n",
       "  </tbody>\n",
       "</table>\n",
       "</div>"
      ],
      "text/plain": [
       "    idno  netustm  ppltrst vote  \\\n",
       "0   5816     90.0      7.0  Yes   \n",
       "1   7251    300.0      5.0  Yes   \n",
       "2   7887    360.0      8.0  Yes   \n",
       "3   9607    540.0      9.0  Yes   \n",
       "4  11688      NaN      5.0  Yes   \n",
       "\n",
       "                                            prtvtddk lvpntyr tygrtr    gndr  \\\n",
       "0  SF Socialistisk Folkeparti - Socialist People'...    1994     60    Male   \n",
       "1           Dansk Folkeparti - Danish People's Party    1993     40  Female   \n",
       "2           Socialdemokratiet - The Social democrats    1983     55    Male   \n",
       "3                     Alternativet - The Alternative    1982     64  Female   \n",
       "4           Socialdemokratiet - The Social democrats    1968     50  Female   \n",
       "\n",
       "   yrbrn                                            edlvddk  eduyrs  wkhct  \\\n",
       "0   1974  Mellemlang videregående uddannelse af 3-4 års ...    35.0   37.0   \n",
       "1   1975  Faglig uddannelse (håndværk, handel, landbrug ...    13.0   32.0   \n",
       "2   1958  Lang videregående uddannelse. Kandidatuddannel...    25.0   39.0   \n",
       "3   1964  Mellemlang videregående uddannelse af 3-4 års ...    13.0   32.0   \n",
       "4   1952  Faglig uddannelse (håndværk, handel, landbrug ...     2.0   37.0   \n",
       "\n",
       "   wkhtot  grspnum  frlgrsp  inwtm  netusth  wkhtot_category  \n",
       "0    37.0  37000.0  35000.0   61.0      1.5              NaN  \n",
       "1    34.0  22000.0  30000.0   68.0      5.0              NaN  \n",
       "2    39.0  36000.0  42000.0   89.0      6.0              NaN  \n",
       "3    34.0  32000.0      NaN   50.0      9.0              NaN  \n",
       "4    37.0      NaN      NaN   77.0      NaN              NaN  "
      ]
     },
     "execution_count": 59,
     "metadata": {},
     "output_type": "execute_result"
    }
   ],
   "source": [
    "import numpy as np\n",
    "\n",
    "ess['wkhtot_category'] = np.nan\n",
    "ess.head()"
   ]
  },
  {
   "cell_type": "markdown",
   "metadata": {
    "slideshow": {
     "slide_type": "subslide"
    }
   },
   "source": [
    "### NaN: \"Not a Number\"\n",
    "\n",
    "`NaN` is the python equivalent of missing.\n",
    "\n",
    "Notice that python does not treat NaN-values as larger or smaller than zero. NaN-values do not have a value. We therefore need to use specific methods to refer to them (like `isna()`)."
   ]
  },
  {
   "cell_type": "code",
   "execution_count": 60,
   "metadata": {
    "slideshow": {
     "slide_type": "fragment"
    }
   },
   "outputs": [
    {
     "name": "stdout",
     "output_type": "stream",
     "text": [
      "False False False\n"
     ]
    }
   ],
   "source": [
    "print(\n",
    "    ess.loc[2, 'wkhtot_category'] < 0,\n",
    "    ess.loc[2, 'wkhtot_category'] > 0,\n",
    "    ess.loc[2, 'wkhtot_category'] == 0\n",
    ")"
   ]
  },
  {
   "cell_type": "code",
   "execution_count": 61,
   "metadata": {
    "slideshow": {
     "slide_type": "fragment"
    }
   },
   "outputs": [
    {
     "data": {
      "text/plain": [
       "2    True\n",
       "Name: wkhtot_category, dtype: bool"
      ]
     },
     "execution_count": 61,
     "metadata": {},
     "output_type": "execute_result"
    }
   ],
   "source": [
    "ess[2:3]['wkhtot_category'].isna()"
   ]
  },
  {
   "cell_type": "markdown",
   "metadata": {
    "slideshow": {
     "slide_type": "slide"
    }
   },
   "source": [
    "### Recoding variables\n",
    "\n",
    "The standard way of recoding is by using booleans."
   ]
  },
  {
   "cell_type": "code",
   "execution_count": 62,
   "metadata": {},
   "outputs": [],
   "source": [
    "mean_wkhtot = ess['wkhtot'].mean()"
   ]
  },
  {
   "cell_type": "code",
   "execution_count": 63,
   "metadata": {
    "slideshow": {
     "slide_type": "fragment"
    }
   },
   "outputs": [
    {
     "data": {
      "text/html": [
       "<div>\n",
       "<style scoped>\n",
       "    .dataframe tbody tr th:only-of-type {\n",
       "        vertical-align: middle;\n",
       "    }\n",
       "\n",
       "    .dataframe tbody tr th {\n",
       "        vertical-align: top;\n",
       "    }\n",
       "\n",
       "    .dataframe thead th {\n",
       "        text-align: right;\n",
       "    }\n",
       "</style>\n",
       "<table border=\"1\" class=\"dataframe\">\n",
       "  <thead>\n",
       "    <tr style=\"text-align: right;\">\n",
       "      <th></th>\n",
       "      <th>idno</th>\n",
       "      <th>netustm</th>\n",
       "      <th>ppltrst</th>\n",
       "      <th>vote</th>\n",
       "      <th>prtvtddk</th>\n",
       "      <th>lvpntyr</th>\n",
       "      <th>tygrtr</th>\n",
       "      <th>gndr</th>\n",
       "      <th>yrbrn</th>\n",
       "      <th>edlvddk</th>\n",
       "      <th>eduyrs</th>\n",
       "      <th>wkhct</th>\n",
       "      <th>wkhtot</th>\n",
       "      <th>grspnum</th>\n",
       "      <th>frlgrsp</th>\n",
       "      <th>inwtm</th>\n",
       "      <th>netusth</th>\n",
       "      <th>wkhtot_category</th>\n",
       "    </tr>\n",
       "  </thead>\n",
       "  <tbody>\n",
       "    <tr>\n",
       "      <th>0</th>\n",
       "      <td>5816</td>\n",
       "      <td>90.0</td>\n",
       "      <td>7.0</td>\n",
       "      <td>Yes</td>\n",
       "      <td>SF Socialistisk Folkeparti - Socialist People'...</td>\n",
       "      <td>1994</td>\n",
       "      <td>60</td>\n",
       "      <td>Male</td>\n",
       "      <td>1974</td>\n",
       "      <td>Mellemlang videregående uddannelse af 3-4 års ...</td>\n",
       "      <td>35.0</td>\n",
       "      <td>37.0</td>\n",
       "      <td>37.0</td>\n",
       "      <td>37000.0</td>\n",
       "      <td>35000.0</td>\n",
       "      <td>61.0</td>\n",
       "      <td>1.5</td>\n",
       "      <td>works a lot</td>\n",
       "    </tr>\n",
       "    <tr>\n",
       "      <th>1</th>\n",
       "      <td>7251</td>\n",
       "      <td>300.0</td>\n",
       "      <td>5.0</td>\n",
       "      <td>Yes</td>\n",
       "      <td>Dansk Folkeparti - Danish People's Party</td>\n",
       "      <td>1993</td>\n",
       "      <td>40</td>\n",
       "      <td>Female</td>\n",
       "      <td>1975</td>\n",
       "      <td>Faglig uddannelse (håndværk, handel, landbrug ...</td>\n",
       "      <td>13.0</td>\n",
       "      <td>32.0</td>\n",
       "      <td>34.0</td>\n",
       "      <td>22000.0</td>\n",
       "      <td>30000.0</td>\n",
       "      <td>68.0</td>\n",
       "      <td>5.0</td>\n",
       "      <td>works a little</td>\n",
       "    </tr>\n",
       "    <tr>\n",
       "      <th>2</th>\n",
       "      <td>7887</td>\n",
       "      <td>360.0</td>\n",
       "      <td>8.0</td>\n",
       "      <td>Yes</td>\n",
       "      <td>Socialdemokratiet - The Social democrats</td>\n",
       "      <td>1983</td>\n",
       "      <td>55</td>\n",
       "      <td>Male</td>\n",
       "      <td>1958</td>\n",
       "      <td>Lang videregående uddannelse. Kandidatuddannel...</td>\n",
       "      <td>25.0</td>\n",
       "      <td>39.0</td>\n",
       "      <td>39.0</td>\n",
       "      <td>36000.0</td>\n",
       "      <td>42000.0</td>\n",
       "      <td>89.0</td>\n",
       "      <td>6.0</td>\n",
       "      <td>works a lot</td>\n",
       "    </tr>\n",
       "    <tr>\n",
       "      <th>3</th>\n",
       "      <td>9607</td>\n",
       "      <td>540.0</td>\n",
       "      <td>9.0</td>\n",
       "      <td>Yes</td>\n",
       "      <td>Alternativet - The Alternative</td>\n",
       "      <td>1982</td>\n",
       "      <td>64</td>\n",
       "      <td>Female</td>\n",
       "      <td>1964</td>\n",
       "      <td>Mellemlang videregående uddannelse af 3-4 års ...</td>\n",
       "      <td>13.0</td>\n",
       "      <td>32.0</td>\n",
       "      <td>34.0</td>\n",
       "      <td>32000.0</td>\n",
       "      <td>NaN</td>\n",
       "      <td>50.0</td>\n",
       "      <td>9.0</td>\n",
       "      <td>works a little</td>\n",
       "    </tr>\n",
       "    <tr>\n",
       "      <th>4</th>\n",
       "      <td>11688</td>\n",
       "      <td>NaN</td>\n",
       "      <td>5.0</td>\n",
       "      <td>Yes</td>\n",
       "      <td>Socialdemokratiet - The Social democrats</td>\n",
       "      <td>1968</td>\n",
       "      <td>50</td>\n",
       "      <td>Female</td>\n",
       "      <td>1952</td>\n",
       "      <td>Faglig uddannelse (håndværk, handel, landbrug ...</td>\n",
       "      <td>2.0</td>\n",
       "      <td>37.0</td>\n",
       "      <td>37.0</td>\n",
       "      <td>NaN</td>\n",
       "      <td>NaN</td>\n",
       "      <td>77.0</td>\n",
       "      <td>NaN</td>\n",
       "      <td>works a lot</td>\n",
       "    </tr>\n",
       "  </tbody>\n",
       "</table>\n",
       "</div>"
      ],
      "text/plain": [
       "    idno  netustm  ppltrst vote  \\\n",
       "0   5816     90.0      7.0  Yes   \n",
       "1   7251    300.0      5.0  Yes   \n",
       "2   7887    360.0      8.0  Yes   \n",
       "3   9607    540.0      9.0  Yes   \n",
       "4  11688      NaN      5.0  Yes   \n",
       "\n",
       "                                            prtvtddk lvpntyr tygrtr    gndr  \\\n",
       "0  SF Socialistisk Folkeparti - Socialist People'...    1994     60    Male   \n",
       "1           Dansk Folkeparti - Danish People's Party    1993     40  Female   \n",
       "2           Socialdemokratiet - The Social democrats    1983     55    Male   \n",
       "3                     Alternativet - The Alternative    1982     64  Female   \n",
       "4           Socialdemokratiet - The Social democrats    1968     50  Female   \n",
       "\n",
       "   yrbrn                                            edlvddk  eduyrs  wkhct  \\\n",
       "0   1974  Mellemlang videregående uddannelse af 3-4 års ...    35.0   37.0   \n",
       "1   1975  Faglig uddannelse (håndværk, handel, landbrug ...    13.0   32.0   \n",
       "2   1958  Lang videregående uddannelse. Kandidatuddannel...    25.0   39.0   \n",
       "3   1964  Mellemlang videregående uddannelse af 3-4 års ...    13.0   32.0   \n",
       "4   1952  Faglig uddannelse (håndværk, handel, landbrug ...     2.0   37.0   \n",
       "\n",
       "   wkhtot  grspnum  frlgrsp  inwtm  netusth wkhtot_category  \n",
       "0    37.0  37000.0  35000.0   61.0      1.5     works a lot  \n",
       "1    34.0  22000.0  30000.0   68.0      5.0  works a little  \n",
       "2    39.0  36000.0  42000.0   89.0      6.0     works a lot  \n",
       "3    34.0  32000.0      NaN   50.0      9.0  works a little  \n",
       "4    37.0      NaN      NaN   77.0      NaN     works a lot  "
      ]
     },
     "execution_count": 63,
     "metadata": {},
     "output_type": "execute_result"
    }
   ],
   "source": [
    "ess.loc[(ess['wkhtot'] <= mean_wkhtot), 'wkhtot_category'] = \"works a little\"\n",
    "ess.loc[(ess['wkhtot'] > mean_wkhtot), 'wkhtot_category'] = \"works a lot\"\n",
    "ess.head()"
   ]
  },
  {
   "cell_type": "markdown",
   "metadata": {
    "slideshow": {
     "slide_type": "slide"
    }
   },
   "source": [
    "## EXERCISE 3: DataFrames\n",
    "\n",
    " 1. Create a new variable/column called `povertime` containing the pertange of overtime for respondents.\n",
    "(Total contracted hours per week in main job overtime excluded 'wkhct'\n",
    "Total hours normally worked per week in main job overtime included 'wkhtot')\n",
    " 2. What is the count and minimum of povertime? Use either `.describe`, `.min` or `.count`\n"
   ]
  },
  {
   "cell_type": "markdown",
   "metadata": {},
   "source": [
    "### EXERCISE 3: DataFrames"
   ]
  },
  {
   "cell_type": "code",
   "execution_count": 64,
   "metadata": {
    "slideshow": {
     "slide_type": "subslide"
    }
   },
   "outputs": [
    {
     "data": {
      "text/plain": [
       "count    1211.000000\n",
       "mean             inf\n",
       "std              NaN\n",
       "min         0.000000\n",
       "25%       100.000000\n",
       "50%       100.000000\n",
       "75%       110.810811\n",
       "max              inf\n",
       "Name: povertime, dtype: float64"
      ]
     },
     "execution_count": 64,
     "metadata": {},
     "output_type": "execute_result"
    }
   ],
   "source": [
    "ess['povertime'] = (ess['wkhtot'] / ess['wkhct'])*100 #Variable for largest percentage overtime\n",
    "\n",
    "ess['povertime'].describe() #largest percentage of overtime"
   ]
  },
  {
   "cell_type": "markdown",
   "metadata": {
    "slideshow": {
     "slide_type": "slide"
    }
   },
   "source": [
    "## Basic visualization with pandas\n",
    "\n",
    "Pandas contains basic plotting functionality with the method `.plot`. This method contains a range of \"submethods\" like `.plot.bar()` to create a simple barplot.\n",
    "\n",
    "A barplot however requires counts of the categories, which can be calculated using the method `.value_counts()`:"
   ]
  },
  {
   "cell_type": "code",
   "execution_count": 65,
   "metadata": {},
   "outputs": [
    {
     "data": {
      "text/plain": [
       "works a lot       918\n",
       "works a little    340\n",
       "Name: wkhtot_category, dtype: int64"
      ]
     },
     "execution_count": 65,
     "metadata": {},
     "output_type": "execute_result"
    }
   ],
   "source": [
    "ess['wkhtot_category'].value_counts()"
   ]
  },
  {
   "cell_type": "code",
   "execution_count": 66,
   "metadata": {},
   "outputs": [
    {
     "data": {
      "text/plain": [
       "<AxesSubplot:>"
      ]
     },
     "execution_count": 66,
     "metadata": {},
     "output_type": "execute_result"
    },
    {
     "data": {
      "image/png": "[encoded data removed]",
      "text/plain": [
       "<Figure size 432x288 with 1 Axes>"
      ]
     },
     "metadata": {
      "needs_background": "light"
     },
     "output_type": "display_data"
    }
   ],
   "source": [
    "ess['wkhtot_category'].value_counts().plot.bar()"
   ]
  },
  {
   "cell_type": "markdown",
   "metadata": {},
   "source": [
    "#### A nicer visualization\n",
    "\n",
    "We can easily make the visualization a bit nicer by using the package \"seaborn\" (https://seaborn.pydata.org)\n",
    "\n",
    "By importing seaborn, the basic plotting setting can be set to use the defaults from \"seaborn\":"
   ]
  },
  {
   "cell_type": "code",
   "execution_count": 67,
   "metadata": {},
   "outputs": [
    {
     "data": {
      "text/plain": [
       "<AxesSubplot:>"
      ]
     },
     "execution_count": 67,
     "metadata": {},
     "output_type": "execute_result"
    },
    {
     "data": {
      "image/png": "[encoded data removed]",
      "text/plain": [
       "<Figure size 1080x648 with 1 Axes>"
      ]
     },
     "metadata": {},
     "output_type": "display_data"
    }
   ],
   "source": [
    "import seaborn as sns\n",
    "sns.set(rc={'figure.figsize':(15,9)})\n",
    "\n",
    "ess['wkhtot_category'].value_counts().plot.bar()"
   ]
  },
  {
   "cell_type": "markdown",
   "metadata": {
    "slideshow": {
     "slide_type": "fragment"
    }
   },
   "source": [
    "### Exporting data with pandas\n",
    "\n",
    "Pandas supports exporting DataFrames as various files, including:\n",
    "- .csv (comma-separated values)\n",
    "- .xlsx (excel)\n",
    "- .dta (Stata)\n",
    "\n",
    "Files are created using the methods `to_csv()`, `to_excel` and `to_stata` respectively.\n",
    "\n",
    "These methods store row numbers as a column by default. This can be disabled using `index = False`."
   ]
  },
  {
   "cell_type": "code",
   "execution_count": 68,
   "metadata": {
    "slideshow": {
     "slide_type": "fragment"
    }
   },
   "outputs": [],
   "source": [
    "ess.to_csv('my_ess.csv', index = False)\n",
    "#ess.to_stata('my_ess.dta', index = False)"
   ]
  },
  {
   "cell_type": "markdown",
   "metadata": {
    "slideshow": {
     "slide_type": "slide"
    }
   },
   "source": [
    "### Reading a simple csv file\n",
    "The method `.read_csv` can be used to read a .csv-file as a dataframe.\n",
    "\n",
    "Note that unless you specify an index, one will be automatically generated."
   ]
  },
  {
   "cell_type": "code",
   "execution_count": 69,
   "metadata": {
    "slideshow": {
     "slide_type": "fragment"
    }
   },
   "outputs": [
    {
     "data": {
      "text/html": [
       "<div>\n",
       "<style scoped>\n",
       "    .dataframe tbody tr th:only-of-type {\n",
       "        vertical-align: middle;\n",
       "    }\n",
       "\n",
       "    .dataframe tbody tr th {\n",
       "        vertical-align: top;\n",
       "    }\n",
       "\n",
       "    .dataframe thead th {\n",
       "        text-align: right;\n",
       "    }\n",
       "</style>\n",
       "<table border=\"1\" class=\"dataframe\">\n",
       "  <thead>\n",
       "    <tr style=\"text-align: right;\">\n",
       "      <th></th>\n",
       "      <th>idno</th>\n",
       "      <th>netustm</th>\n",
       "      <th>ppltrst</th>\n",
       "      <th>vote</th>\n",
       "      <th>prtvtddk</th>\n",
       "      <th>lvpntyr</th>\n",
       "      <th>tygrtr</th>\n",
       "      <th>gndr</th>\n",
       "      <th>yrbrn</th>\n",
       "      <th>edlvddk</th>\n",
       "      <th>eduyrs</th>\n",
       "      <th>wkhct</th>\n",
       "      <th>wkhtot</th>\n",
       "      <th>grspnum</th>\n",
       "      <th>frlgrsp</th>\n",
       "      <th>inwtm</th>\n",
       "      <th>netusth</th>\n",
       "      <th>wkhtot_category</th>\n",
       "      <th>povertime</th>\n",
       "    </tr>\n",
       "  </thead>\n",
       "  <tbody>\n",
       "    <tr>\n",
       "      <th>0</th>\n",
       "      <td>5816</td>\n",
       "      <td>90.0</td>\n",
       "      <td>7.0</td>\n",
       "      <td>Yes</td>\n",
       "      <td>SF Socialistisk Folkeparti - Socialist People'...</td>\n",
       "      <td>1994</td>\n",
       "      <td>60</td>\n",
       "      <td>Male</td>\n",
       "      <td>1974</td>\n",
       "      <td>Mellemlang videregående uddannelse af 3-4 års ...</td>\n",
       "      <td>35.0</td>\n",
       "      <td>37.0</td>\n",
       "      <td>37.0</td>\n",
       "      <td>37000.0</td>\n",
       "      <td>35000.0</td>\n",
       "      <td>61.0</td>\n",
       "      <td>1.5</td>\n",
       "      <td>works a lot</td>\n",
       "      <td>100.00</td>\n",
       "    </tr>\n",
       "    <tr>\n",
       "      <th>1</th>\n",
       "      <td>7251</td>\n",
       "      <td>300.0</td>\n",
       "      <td>5.0</td>\n",
       "      <td>Yes</td>\n",
       "      <td>Dansk Folkeparti - Danish People's Party</td>\n",
       "      <td>1993</td>\n",
       "      <td>40</td>\n",
       "      <td>Female</td>\n",
       "      <td>1975</td>\n",
       "      <td>Faglig uddannelse (håndværk, handel, landbrug ...</td>\n",
       "      <td>13.0</td>\n",
       "      <td>32.0</td>\n",
       "      <td>34.0</td>\n",
       "      <td>22000.0</td>\n",
       "      <td>30000.0</td>\n",
       "      <td>68.0</td>\n",
       "      <td>5.0</td>\n",
       "      <td>works a little</td>\n",
       "      <td>106.25</td>\n",
       "    </tr>\n",
       "    <tr>\n",
       "      <th>2</th>\n",
       "      <td>7887</td>\n",
       "      <td>360.0</td>\n",
       "      <td>8.0</td>\n",
       "      <td>Yes</td>\n",
       "      <td>Socialdemokratiet - The Social democrats</td>\n",
       "      <td>1983</td>\n",
       "      <td>55</td>\n",
       "      <td>Male</td>\n",
       "      <td>1958</td>\n",
       "      <td>Lang videregående uddannelse. Kandidatuddannel...</td>\n",
       "      <td>25.0</td>\n",
       "      <td>39.0</td>\n",
       "      <td>39.0</td>\n",
       "      <td>36000.0</td>\n",
       "      <td>42000.0</td>\n",
       "      <td>89.0</td>\n",
       "      <td>6.0</td>\n",
       "      <td>works a lot</td>\n",
       "      <td>100.00</td>\n",
       "    </tr>\n",
       "    <tr>\n",
       "      <th>3</th>\n",
       "      <td>9607</td>\n",
       "      <td>540.0</td>\n",
       "      <td>9.0</td>\n",
       "      <td>Yes</td>\n",
       "      <td>Alternativet - The Alternative</td>\n",
       "      <td>1982</td>\n",
       "      <td>64</td>\n",
       "      <td>Female</td>\n",
       "      <td>1964</td>\n",
       "      <td>Mellemlang videregående uddannelse af 3-4 års ...</td>\n",
       "      <td>13.0</td>\n",
       "      <td>32.0</td>\n",
       "      <td>34.0</td>\n",
       "      <td>32000.0</td>\n",
       "      <td>NaN</td>\n",
       "      <td>50.0</td>\n",
       "      <td>9.0</td>\n",
       "      <td>works a little</td>\n",
       "      <td>106.25</td>\n",
       "    </tr>\n",
       "    <tr>\n",
       "      <th>4</th>\n",
       "      <td>11688</td>\n",
       "      <td>NaN</td>\n",
       "      <td>5.0</td>\n",
       "      <td>Yes</td>\n",
       "      <td>Socialdemokratiet - The Social democrats</td>\n",
       "      <td>1968</td>\n",
       "      <td>50</td>\n",
       "      <td>Female</td>\n",
       "      <td>1952</td>\n",
       "      <td>Faglig uddannelse (håndværk, handel, landbrug ...</td>\n",
       "      <td>2.0</td>\n",
       "      <td>37.0</td>\n",
       "      <td>37.0</td>\n",
       "      <td>NaN</td>\n",
       "      <td>NaN</td>\n",
       "      <td>77.0</td>\n",
       "      <td>NaN</td>\n",
       "      <td>works a lot</td>\n",
       "      <td>100.00</td>\n",
       "    </tr>\n",
       "  </tbody>\n",
       "</table>\n",
       "</div>"
      ],
      "text/plain": [
       "    idno  netustm  ppltrst vote  \\\n",
       "0   5816     90.0      7.0  Yes   \n",
       "1   7251    300.0      5.0  Yes   \n",
       "2   7887    360.0      8.0  Yes   \n",
       "3   9607    540.0      9.0  Yes   \n",
       "4  11688      NaN      5.0  Yes   \n",
       "\n",
       "                                            prtvtddk lvpntyr tygrtr    gndr  \\\n",
       "0  SF Socialistisk Folkeparti - Socialist People'...    1994     60    Male   \n",
       "1           Dansk Folkeparti - Danish People's Party    1993     40  Female   \n",
       "2           Socialdemokratiet - The Social democrats    1983     55    Male   \n",
       "3                     Alternativet - The Alternative    1982     64  Female   \n",
       "4           Socialdemokratiet - The Social democrats    1968     50  Female   \n",
       "\n",
       "   yrbrn                                            edlvddk  eduyrs  wkhct  \\\n",
       "0   1974  Mellemlang videregående uddannelse af 3-4 års ...    35.0   37.0   \n",
       "1   1975  Faglig uddannelse (håndværk, handel, landbrug ...    13.0   32.0   \n",
       "2   1958  Lang videregående uddannelse. Kandidatuddannel...    25.0   39.0   \n",
       "3   1964  Mellemlang videregående uddannelse af 3-4 års ...    13.0   32.0   \n",
       "4   1952  Faglig uddannelse (håndværk, handel, landbrug ...     2.0   37.0   \n",
       "\n",
       "   wkhtot  grspnum  frlgrsp  inwtm  netusth wkhtot_category  povertime  \n",
       "0    37.0  37000.0  35000.0   61.0      1.5     works a lot     100.00  \n",
       "1    34.0  22000.0  30000.0   68.0      5.0  works a little     106.25  \n",
       "2    39.0  36000.0  42000.0   89.0      6.0     works a lot     100.00  \n",
       "3    34.0  32000.0      NaN   50.0      9.0  works a little     106.25  \n",
       "4    37.0      NaN      NaN   77.0      NaN     works a lot     100.00  "
      ]
     },
     "execution_count": 69,
     "metadata": {},
     "output_type": "execute_result"
    }
   ],
   "source": [
    "ess_new = pd.read_csv('my_ess.csv') \n",
    "ess_new.head()"
   ]
  }
 ],
 "metadata": {
  "celltoolbar": "Slideshow",
  "kernelspec": {
   "display_name": "Python 3 (ipykernel)",
   "language": "python",
   "name": "python3"
  },
  "language_info": {
   "codemirror_mode": {
    "name": "ipython",
    "version": 3
   },
   "file_extension": ".py",
   "mimetype": "text/x-python",
   "name": "python",
   "nbconvert_exporter": "python",
   "pygments_lexer": "ipython3",
   "version": "3.7.9"
  }
 },
 "nbformat": 4,
 "nbformat_minor": 4
}

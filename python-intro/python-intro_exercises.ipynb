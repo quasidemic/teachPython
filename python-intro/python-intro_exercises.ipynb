{
 "cells": [
  {
   "cell_type": "markdown",
   "id": "cfd41acc-6b53-4962-9579-4d562f58d44a",
   "metadata": {
    "slideshow": {
     "slide_type": "slide"
    }
   },
   "source": [
    "## EXERCISE 1: DEFINING VARIABLES\n",
    "\n",
    "1. Define the following variables:\n",
    "\n",
    "    - `my_num1`: `42` (without quotation marks)\n",
    "    - `my_num2`: `\"42\"` (with quotation marks)\n",
    "    - `my_calc`: `42 * 42`\n",
    "    - `my_name`: `\"kenobi\"`\n",
    "\n",
    "2. Divide each variable by 2\n",
    "\n",
    "## Bonus exercise\n",
    "- Try multiplying each variable by 2"
   ]
  },
  {
   "cell_type": "markdown",
   "id": "5b7b9811-df12-407d-bc68-cac678549ddc",
   "metadata": {
    "slideshow": {
     "slide_type": "slide"
    }
   },
   "source": [
    "## EXERCISE 2: FUNCTIONS, METHODS AND TYPES\n",
    "\n",
    "1. Define variables containing the following (name them what you want):\n",
    "    - A number\n",
    "    - A string/text value\n",
    "    - A list of five numbers\n",
    "2. Confirm the variables are the appropriate type using the function `type()`\n",
    "3. Try using the function `min()` on the variables - What does it do and what type of variable does it work on?\n",
    "4. Try using the method `.upper()` on the variables - What does it do and what type of variable does it work on?\n",
    "5. Check whether the minimum number of your list is larger than your number using `>` (`x > y`) "
   ]
  },
  {
   "cell_type": "markdown",
   "id": "5310ae3f-e486-43e1-b33a-32aa89cf199c",
   "metadata": {
    "slideshow": {
     "slide_type": "slide"
    }
   },
   "source": [
    "## EXERCISE 3: DataFrames\n",
    "\n",
    " 1. Create a new variable/column called `povertime` containing the pertange of overtime for respondents.\n",
    "(Total contracted hours per week in main job overtime excluded 'wkhct'\n",
    "Total hours normally worked per week in main job overtime included 'wkhtot')\n",
    " 2. What is the count and minimum of povertime? Use either `.describe`, `.min` or `.count`\n"
   ]
  }
 ],
 "metadata": {
  "kernelspec": {
   "display_name": "Python 3 (ipykernel)",
   "language": "python",
   "name": "python3"
  },
  "language_info": {
   "codemirror_mode": {
    "name": "ipython",
    "version": 3
   },
   "file_extension": ".py",
   "mimetype": "text/x-python",
   "name": "python",
   "nbconvert_exporter": "python",
   "pygments_lexer": "ipython3",
   "version": "3.7.9"
  }
 },
 "nbformat": 4,
 "nbformat_minor": 5
}
